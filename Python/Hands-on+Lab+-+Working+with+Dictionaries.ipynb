{
 "cells": [
  {
   "cell_type": "markdown",
   "id": "6a35fa33-b9c2-49f1-b668-0019998d599d",
   "metadata": {},
   "source": [
    "#### Problem 1: \n",
    "**You are given a dictionary representing a student's information. Slice and extract the values for the name and grade keys.**"
   ]
  },
  {
   "cell_type": "code",
   "execution_count": 12,
   "id": "1a0867bb-67ca-42c7-8a86-b9dc83df5f51",
   "metadata": {},
   "outputs": [
    {
     "name": "stdout",
     "output_type": "stream",
     "text": [
      "Alice\n",
      "A\n"
     ]
    }
   ],
   "source": [
    "Student = {'name': 'Alice',\n",
    "             'age': 20,\n",
    "             'grade': 'A',\n",
    "             'city': 'New York'}\n",
    "\n",
    "print(Student['name'])\n",
    "print(Student['grade'])"
   ]
  },
  {
   "cell_type": "markdown",
   "id": "beb278cf-ebd1-4836-b45f-2e39142ec316",
   "metadata": {},
   "source": [
    "#### Problem 2: \n",
    "**Add a new key-value pair to the dictionary representing the student's email address (alice@example.com).**"
   ]
  },
  {
   "cell_type": "code",
   "execution_count": 13,
   "id": "afc11cc7-f367-4ee9-aa16-44919d1209a1",
   "metadata": {},
   "outputs": [
    {
     "data": {
      "text/plain": [
       "{'name': 'Alice',\n",
       " 'age': 20,\n",
       " 'grade': 'A',\n",
       " 'city': 'New York',\n",
       " 'email': 'alice@example.com'}"
      ]
     },
     "execution_count": 13,
     "metadata": {},
     "output_type": "execute_result"
    }
   ],
   "source": [
    "Student['email'] = 'alice@example.com'\n",
    "\n",
    "Student"
   ]
  },
  {
   "cell_type": "markdown",
   "id": "75ab11e9-91ad-49b2-aa96-6b3c2414dfe7",
   "metadata": {},
   "source": [
    "#### Problem 3: \n",
    "**Remove the city key-value pair from the dictionary.**"
   ]
  },
  {
   "cell_type": "code",
   "execution_count": 14,
   "id": "842a21fb-b6f4-4084-9471-d39516bd2e7c",
   "metadata": {},
   "outputs": [
    {
     "data": {
      "text/plain": [
       "{'name': 'Alice', 'age': 20, 'grade': 'A', 'email': 'alice@example.com'}"
      ]
     },
     "execution_count": 14,
     "metadata": {},
     "output_type": "execute_result"
    }
   ],
   "source": [
    "del Student['city']\n",
    "\n",
    "Student"
   ]
  },
  {
   "cell_type": "markdown",
   "id": "0d060ee0-23e6-4b63-8db4-700e15ecca00",
   "metadata": {},
   "source": [
    "#### Problem 4: \n",
    "**Retrieve and display all the keys, all the values, and all the key-value pairs from the dictionary.**"
   ]
  },
  {
   "cell_type": "code",
   "execution_count": 15,
   "id": "3e32ba0c-4592-429d-8f7b-f4a5c7c0d843",
   "metadata": {},
   "outputs": [
    {
     "name": "stdout",
     "output_type": "stream",
     "text": [
      "dict_keys(['name', 'age', 'grade', 'email'])\n",
      "dict_values(['Alice', 20, 'A', 'alice@example.com'])\n",
      "dict_items([('name', 'Alice'), ('age', 20), ('grade', 'A'), ('email', 'alice@example.com')])\n"
     ]
    }
   ],
   "source": [
    "print(Student.keys())\n",
    "print(Student.values())\n",
    "print(Student.items())"
   ]
  },
  {
   "cell_type": "code",
   "execution_count": null,
   "id": "f5e336e6-4699-48c4-9d11-056215b06ce0",
   "metadata": {},
   "outputs": [],
   "source": []
  }
 ],
 "metadata": {
  "kernelspec": {
   "display_name": "Python 3 (ipykernel)",
   "language": "python",
   "name": "python3"
  },
  "language_info": {
   "codemirror_mode": {
    "name": "ipython",
    "version": 3
   },
   "file_extension": ".py",
   "mimetype": "text/x-python",
   "name": "python",
   "nbconvert_exporter": "python",
   "pygments_lexer": "ipython3",
   "version": "3.11.4"
  }
 },
 "nbformat": 4,
 "nbformat_minor": 5
}
