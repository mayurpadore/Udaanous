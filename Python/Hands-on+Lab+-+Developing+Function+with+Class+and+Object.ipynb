{
 "cells": [
  {
   "cell_type": "markdown",
   "id": "6a35fa33-b9c2-49f1-b668-0019998d599d",
   "metadata": {},
   "source": [
    "## Problem: \n",
    "\n",
    "Imagine you are managing a small library and need a system to track books and their availability. Each book has details like the title, author, and availability status (whether it’s borrowed or not). You want to build a system that allows:\n",
    "\n",
    "1. Adding books to the library.\n",
    "2. Checking if a book is available.\n",
    "3. Borrowing a book (marking it as borrowed).\n",
    "4. Returning a book (marking it as available).\n",
    "\n",
    "You will solve this using classes and objects."
   ]
  },
  {
   "cell_type": "code",
   "execution_count": 7,
   "id": "1a0867bb-67ca-42c7-8a86-b9dc83df5f51",
   "metadata": {},
   "outputs": [],
   "source": [
    "class Book:\n",
    "    def __init__(self, title, author):\n",
    "        self.title = title\n",
    "        self.author = author\n",
    "        self.is_available = True\n",
    "    def borrow(self):\n",
    "        if self.is_available:\n",
    "            self.is_available = False\n",
    "            return f\"You have borrowed '{self.title}'.\"\n",
    "        else:\n",
    "            return f\"Sorry, '{self.title}' is already borrowed.\"\n",
    "    def return_book(self):\n",
    "        if not self.is_available:\n",
    "            self.is_available = True \n",
    "            return f\"'{self.title}' has been returned. Thank you!\"\n",
    "        else:\n",
    "            return f\"{self.title}' is already in the library.\"\n",
    "    def check_availability(self):\n",
    "        return f\"'{self.title}' is {'available' if self.is_available else 'not available'}\""
   ]
  },
  {
   "cell_type": "code",
   "execution_count": 9,
   "id": "769ab403-0ddb-4621-bcc3-71edbfaf20ce",
   "metadata": {},
   "outputs": [],
   "source": [
    "library = Book(\"To Kill a Mockingbird\", \"Harper Lee\")"
   ]
  },
  {
   "cell_type": "code",
   "execution_count": 11,
   "id": "81386d71-ff22-4bb5-9e05-d30226f89c52",
   "metadata": {},
   "outputs": [
    {
     "name": "stdout",
     "output_type": "stream",
     "text": [
      "'To Kill a Mockingbird' is available\n"
     ]
    }
   ],
   "source": [
    "print(library.check_availability())"
   ]
  },
  {
   "cell_type": "code",
   "execution_count": 13,
   "id": "0d3fb74c-2488-4f7d-97ef-734f2db1a377",
   "metadata": {},
   "outputs": [
    {
     "name": "stdout",
     "output_type": "stream",
     "text": [
      "You have borrowed 'To Kill a Mockingbird'.\n"
     ]
    }
   ],
   "source": [
    "print(library.borrow())"
   ]
  },
  {
   "cell_type": "code",
   "execution_count": 15,
   "id": "42229293-4924-40f8-8215-959e5831ada7",
   "metadata": {},
   "outputs": [
    {
     "name": "stdout",
     "output_type": "stream",
     "text": [
      "'To Kill a Mockingbird' is not available\n"
     ]
    }
   ],
   "source": [
    "print(library.check_availability())"
   ]
  },
  {
   "cell_type": "code",
   "execution_count": 17,
   "id": "e7b006e6-83ac-472f-80e0-4e2bf965c72e",
   "metadata": {},
   "outputs": [
    {
     "name": "stdout",
     "output_type": "stream",
     "text": [
      "'To Kill a Mockingbird' has been returned. Thank you!\n"
     ]
    }
   ],
   "source": [
    "print(library.return_book())"
   ]
  },
  {
   "cell_type": "code",
   "execution_count": 19,
   "id": "c4d5f44c-10f9-4fb6-aa4f-394e81b84fe9",
   "metadata": {},
   "outputs": [
    {
     "name": "stdout",
     "output_type": "stream",
     "text": [
      "'To Kill a Mockingbird' is available\n"
     ]
    }
   ],
   "source": [
    "print(library.check_availability())"
   ]
  },
  {
   "cell_type": "code",
   "execution_count": 21,
   "id": "2d59102f-dbea-4c73-8f72-b7d6204f7e94",
   "metadata": {},
   "outputs": [
    {
     "name": "stdout",
     "output_type": "stream",
     "text": [
      "To Kill a Mockingbird' is already in the library.\n"
     ]
    }
   ],
   "source": [
    "print(library.return_book())"
   ]
  },
  {
   "cell_type": "code",
   "execution_count": 34,
   "id": "afc11cc7-f367-4ee9-aa16-44919d1209a1",
   "metadata": {},
   "outputs": [
    {
     "name": "stdin",
     "output_type": "stream",
     "text": [
      "Enter the numerator:  30\n",
      "Enter the denominator:  5\n"
     ]
    },
    {
     "name": "stdout",
     "output_type": "stream",
     "text": [
      "Success! 6.0\n"
     ]
    }
   ],
   "source": [
    "try:\n",
    "    num1 = float(input(\"Enter the numerator: \"))\n",
    "    num2 = float(input(\"Enter the denominator: \"))\n",
    "    result = num1 / num2\n",
    "except ZeroDivisionError:\n",
    "    print(\"Division by zero is not allowed.\")\n",
    "except ValueError:\n",
    "    print(\"Invalid input. Please enter numeric values.\")\n",
    "else:\n",
    "    print(\"Success!\", result)"
   ]
  },
  {
   "cell_type": "code",
   "execution_count": null,
   "id": "c05b4f2b-5e97-44e7-b2ec-4b44ddc401fb",
   "metadata": {},
   "outputs": [],
   "source": []
  }
 ],
 "metadata": {
  "kernelspec": {
   "display_name": "Python 3 (ipykernel)",
   "language": "python",
   "name": "python3"
  },
  "language_info": {
   "codemirror_mode": {
    "name": "ipython",
    "version": 3
   },
   "file_extension": ".py",
   "mimetype": "text/x-python",
   "name": "python",
   "nbconvert_exporter": "python",
   "pygments_lexer": "ipython3",
   "version": "3.11.4"
  }
 },
 "nbformat": 4,
 "nbformat_minor": 5
}
