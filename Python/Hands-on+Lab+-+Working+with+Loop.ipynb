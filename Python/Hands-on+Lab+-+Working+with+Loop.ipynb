{
 "cells": [
  {
   "cell_type": "markdown",
   "id": "6a35fa33-b9c2-49f1-b668-0019998d599d",
   "metadata": {},
   "source": [
    "#### Problem 1: \n",
    "\n",
    "**Write a program to iterate through a list of names and print each name along with a message saying \"Welcome to the team!\". The list of names is given as:**\n",
    "\n",
    "[\"Alice\", \"Bob\", \"Charlie\", \"Diana\"]."
   ]
  },
  {
   "cell_type": "code",
   "execution_count": 26,
   "id": "1a0867bb-67ca-42c7-8a86-b9dc83df5f51",
   "metadata": {},
   "outputs": [
    {
     "name": "stdout",
     "output_type": "stream",
     "text": [
      "Welcome to the team! Alice\n",
      "Welcome to the team! Bob\n",
      "Welcome to the team! Charlie\n",
      "Welcome to the team! Diana\n"
     ]
    }
   ],
   "source": [
    "List = [\"Alice\", \"Bob\", \"Charlie\", \"Diana\"]\n",
    "\n",
    "for i in List:\n",
    "    print(\"Welcome to the team!\",i)"
   ]
  },
  {
   "cell_type": "markdown",
   "id": "beb278cf-ebd1-4836-b45f-2e39142ec316",
   "metadata": {},
   "source": [
    "#### Problem 2: \n",
    "\n",
    "**Write a program to iterate through a list of tasks and print each task with its corresponding index number, starting from 1. The list of tasks is:**\n",
    "\n",
    "[\"Wash the dishes\", \"Clean the room\", \"Do the laundry\", \"Prepare dinner\"]."
   ]
  },
  {
   "cell_type": "code",
   "execution_count": 24,
   "id": "a3c11e4d",
   "metadata": {},
   "outputs": [
    {
     "name": "stdout",
     "output_type": "stream",
     "text": [
      "0\n",
      "1\n",
      "2\n",
      "3\n"
     ]
    }
   ],
   "source": [
    "List = [\"Wash the dishes\", \"Clean the room\", \"Do the laundry\", \"Prepare dinner\"]\n",
    "\n",
    "for i in range(len(List)):\n",
    "    print(i)"
   ]
  },
  {
   "cell_type": "code",
   "execution_count": 19,
   "id": "e773e5ad",
   "metadata": {},
   "outputs": [
    {
     "name": "stdout",
     "output_type": "stream",
     "text": [
      "1 Wash the dishes\n",
      "2 Clean the room\n",
      "3 Do the laundry\n",
      "4 Prepare dinner\n"
     ]
    }
   ],
   "source": [
    "List = [\"Wash the dishes\", \"Clean the room\", \"Do the laundry\", \"Prepare dinner\"]\n",
    "\n",
    "for i in range(len(List)):\n",
    "    print(i+1, List[i])"
   ]
  },
  {
   "cell_type": "markdown",
   "id": "915e0a87-1fa5-4119-a171-723b9ece1027",
   "metadata": {},
   "source": [
    "#### Problem 3:\n",
    "\n",
    "Write a program to create a list of even numbers between 2 and 10 (inclusive) using a while-loop. Start with an empty list and append each even number to the list during each iteration."
   ]
  },
  {
   "cell_type": "code",
   "execution_count": 8,
   "id": "22f13653-6677-4315-b6b4-58b384522f00",
   "metadata": {},
   "outputs": [
    {
     "name": "stdout",
     "output_type": "stream",
     "text": [
      "2\n",
      "4\n",
      "6\n",
      "8\n",
      "10\n"
     ]
    }
   ],
   "source": [
    "meter = 1\n",
    "\n",
    "while meter < 11:\n",
    "    if meter%2 == 0:\n",
    "        print(meter)\n",
    "    meter = meter +1"
   ]
  },
  {
   "cell_type": "markdown",
   "id": "494b1f20-0e7a-4a5e-acf8-9092e2ba5561",
   "metadata": {},
   "source": [
    "#### Problem 4:\n",
    "\n",
    "**Write a program to classify a list of numbers into positive, negative, or zero. Use a for-loop to iterate through the numbers and check each one using if, elif, and else conditions.**\n",
    "\n",
    "The list of numbers is: [10, -5, 0, 23, -7, 0, 15, -3]."
   ]
  },
  {
   "cell_type": "code",
   "execution_count": 10,
   "id": "f60d8f80-06c6-4877-b9e5-608601e97a6a",
   "metadata": {},
   "outputs": [
    {
     "name": "stdout",
     "output_type": "stream",
     "text": [
      "10 is Positive Number\n",
      "-5 is Negative Number\n",
      "0 is Zero\n",
      "23 is Positive Number\n",
      "-7 is Negative Number\n",
      "0 is Zero\n",
      "15 is Positive Number\n",
      "-3 is Negative Number\n"
     ]
    }
   ],
   "source": [
    "List = [10, -5, 0, 23, -7, 0, 15, -3]\n",
    "\n",
    "for i in List:\n",
    "    if i > 0:\n",
    "        print(i,\"is Positive Number\")\n",
    "    elif i == 0:\n",
    "        print(i,\"is Zero\")\n",
    "    else:\n",
    "        print(i,\"is Negative Number\")"
   ]
  },
  {
   "cell_type": "code",
   "execution_count": null,
   "id": "134513b6",
   "metadata": {},
   "outputs": [],
   "source": []
  }
 ],
 "metadata": {
  "kernelspec": {
   "display_name": "Python 3 (ipykernel)",
   "language": "python",
   "name": "python3"
  },
  "language_info": {
   "codemirror_mode": {
    "name": "ipython",
    "version": 3
   },
   "file_extension": ".py",
   "mimetype": "text/x-python",
   "name": "python",
   "nbconvert_exporter": "python",
   "pygments_lexer": "ipython3",
   "version": "3.11.4"
  }
 },
 "nbformat": 4,
 "nbformat_minor": 5
}
