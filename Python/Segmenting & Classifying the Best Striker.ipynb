{
 "cells": [
  {
   "cell_type": "markdown",
   "id": "0f8a9b94",
   "metadata": {},
   "source": [
    "### Import Warnings"
   ]
  },
  {
   "cell_type": "code",
   "execution_count": 5,
   "id": "89d884c2",
   "metadata": {},
   "outputs": [],
   "source": [
    "import warnings\n",
    "warnings.filterwarnings(\"ignore\")"
   ]
  },
  {
   "cell_type": "markdown",
   "id": "2df63be3",
   "metadata": {},
   "source": [
    "### Import Libraries"
   ]
  },
  {
   "cell_type": "code",
   "execution_count": 2,
   "id": "1f4411ee",
   "metadata": {},
   "outputs": [],
   "source": [
    "import pandas as pd\n",
    "import numpy as np"
   ]
  },
  {
   "cell_type": "code",
   "execution_count": 25,
   "id": "23dd5512",
   "metadata": {},
   "outputs": [],
   "source": [
    "import matplotlib.pyplot as plt\n",
    "import seaborn as sns; sns.set(color_codes=True)\n",
    "%matplotlib inline"
   ]
  },
  {
   "cell_type": "markdown",
   "id": "c011873f",
   "metadata": {},
   "source": [
    "### Import Dataset"
   ]
  },
  {
   "cell_type": "code",
   "execution_count": 6,
   "id": "314791b3",
   "metadata": {},
   "outputs": [],
   "source": [
    "df1 = pd.read_excel('Strikers_performance.xlsx')"
   ]
  },
  {
   "cell_type": "code",
   "execution_count": 7,
   "id": "b22798d6",
   "metadata": {},
   "outputs": [
    {
     "data": {
      "text/html": [
       "<div>\n",
       "<style scoped>\n",
       "    .dataframe tbody tr th:only-of-type {\n",
       "        vertical-align: middle;\n",
       "    }\n",
       "\n",
       "    .dataframe tbody tr th {\n",
       "        vertical-align: top;\n",
       "    }\n",
       "\n",
       "    .dataframe thead th {\n",
       "        text-align: right;\n",
       "    }\n",
       "</style>\n",
       "<table border=\"1\" class=\"dataframe\">\n",
       "  <thead>\n",
       "    <tr style=\"text-align: right;\">\n",
       "      <th></th>\n",
       "      <th>Striker_ID</th>\n",
       "      <th>Nationality</th>\n",
       "      <th>Footedness</th>\n",
       "      <th>Marital Status</th>\n",
       "      <th>Goals Scored</th>\n",
       "      <th>Assists</th>\n",
       "      <th>Shots on Target</th>\n",
       "      <th>Shot Accuracy</th>\n",
       "      <th>Conversion Rate</th>\n",
       "      <th>Dribbling Success</th>\n",
       "      <th>Movement off the Ball</th>\n",
       "      <th>Hold-up Play</th>\n",
       "      <th>Aerial Duels Won</th>\n",
       "      <th>Defensive Contribution</th>\n",
       "      <th>Big Game Performance</th>\n",
       "      <th>Consistency</th>\n",
       "      <th>Penalty Success Rate</th>\n",
       "      <th>Impact on Team Performance</th>\n",
       "      <th>Off-field Conduct</th>\n",
       "    </tr>\n",
       "  </thead>\n",
       "  <tbody>\n",
       "    <tr>\n",
       "      <th>0</th>\n",
       "      <td>1</td>\n",
       "      <td>Spain</td>\n",
       "      <td>Left-footed</td>\n",
       "      <td>No</td>\n",
       "      <td>17.483571</td>\n",
       "      <td>10.778533</td>\n",
       "      <td>34.795488</td>\n",
       "      <td>0.677836</td>\n",
       "      <td>0.166241</td>\n",
       "      <td>0.757061</td>\n",
       "      <td>50.921924</td>\n",
       "      <td>71.806409</td>\n",
       "      <td>15.682532</td>\n",
       "      <td>30.412215</td>\n",
       "      <td>6.152481</td>\n",
       "      <td>0.820314</td>\n",
       "      <td>0.922727</td>\n",
       "      <td>8.570370</td>\n",
       "      <td>11.451388</td>\n",
       "    </tr>\n",
       "    <tr>\n",
       "      <th>1</th>\n",
       "      <td>2</td>\n",
       "      <td>France</td>\n",
       "      <td>Left-footed</td>\n",
       "      <td>Yes</td>\n",
       "      <td>14.308678</td>\n",
       "      <td>13.728250</td>\n",
       "      <td>31.472436</td>\n",
       "      <td>0.544881</td>\n",
       "      <td>0.192774</td>\n",
       "      <td>0.796818</td>\n",
       "      <td>61.396150</td>\n",
       "      <td>53.726866</td>\n",
       "      <td>19.843983</td>\n",
       "      <td>26.474913</td>\n",
       "      <td>6.093172</td>\n",
       "      <td>0.803321</td>\n",
       "      <td>0.678984</td>\n",
       "      <td>3.444638</td>\n",
       "      <td>8.243689</td>\n",
       "    </tr>\n",
       "    <tr>\n",
       "      <th>2</th>\n",
       "      <td>3</td>\n",
       "      <td>Germany</td>\n",
       "      <td>Left-footed</td>\n",
       "      <td>No</td>\n",
       "      <td>18.238443</td>\n",
       "      <td>3.804297</td>\n",
       "      <td>25.417413</td>\n",
       "      <td>0.518180</td>\n",
       "      <td>0.160379</td>\n",
       "      <td>0.666869</td>\n",
       "      <td>65.863945</td>\n",
       "      <td>60.452227</td>\n",
       "      <td>20.090084</td>\n",
       "      <td>24.164116</td>\n",
       "      <td>3.408714</td>\n",
       "      <td>0.766540</td>\n",
       "      <td>0.843858</td>\n",
       "      <td>8.429491</td>\n",
       "      <td>9.506835</td>\n",
       "    </tr>\n",
       "    <tr>\n",
       "      <th>3</th>\n",
       "      <td>4</td>\n",
       "      <td>France</td>\n",
       "      <td>Right-footed</td>\n",
       "      <td>No</td>\n",
       "      <td>22.615149</td>\n",
       "      <td>9.688908</td>\n",
       "      <td>20.471443</td>\n",
       "      <td>0.599663</td>\n",
       "      <td>0.184602</td>\n",
       "      <td>0.638776</td>\n",
       "      <td>88.876877</td>\n",
       "      <td>60.511979</td>\n",
       "      <td>22.363152</td>\n",
       "      <td>44.129989</td>\n",
       "      <td>6.339820</td>\n",
       "      <td>0.611798</td>\n",
       "      <td>0.662997</td>\n",
       "      <td>6.532552</td>\n",
       "      <td>8.199653</td>\n",
       "    </tr>\n",
       "    <tr>\n",
       "      <th>4</th>\n",
       "      <td>5</td>\n",
       "      <td>France</td>\n",
       "      <td>Left-footed</td>\n",
       "      <td>Yes</td>\n",
       "      <td>13.829233</td>\n",
       "      <td>6.048072</td>\n",
       "      <td>29.887563</td>\n",
       "      <td>0.582982</td>\n",
       "      <td>0.105319</td>\n",
       "      <td>0.591485</td>\n",
       "      <td>75.565531</td>\n",
       "      <td>54.982158</td>\n",
       "      <td>13.165708</td>\n",
       "      <td>37.859323</td>\n",
       "      <td>8.465658</td>\n",
       "      <td>0.701638</td>\n",
       "      <td>0.906538</td>\n",
       "      <td>8.414915</td>\n",
       "      <td>6.665333</td>\n",
       "    </tr>\n",
       "  </tbody>\n",
       "</table>\n",
       "</div>"
      ],
      "text/plain": [
       "   Striker_ID Nationality    Footedness Marital Status  Goals Scored  \\\n",
       "0           1       Spain   Left-footed             No     17.483571   \n",
       "1           2      France   Left-footed            Yes     14.308678   \n",
       "2           3     Germany   Left-footed             No     18.238443   \n",
       "3           4      France  Right-footed             No     22.615149   \n",
       "4           5      France   Left-footed            Yes     13.829233   \n",
       "\n",
       "     Assists  Shots on Target  Shot Accuracy  Conversion Rate  \\\n",
       "0  10.778533        34.795488       0.677836         0.166241   \n",
       "1  13.728250        31.472436       0.544881         0.192774   \n",
       "2   3.804297        25.417413       0.518180         0.160379   \n",
       "3   9.688908        20.471443       0.599663         0.184602   \n",
       "4   6.048072        29.887563       0.582982         0.105319   \n",
       "\n",
       "   Dribbling Success  Movement off the Ball  Hold-up Play  Aerial Duels Won  \\\n",
       "0           0.757061              50.921924     71.806409         15.682532   \n",
       "1           0.796818              61.396150     53.726866         19.843983   \n",
       "2           0.666869              65.863945     60.452227         20.090084   \n",
       "3           0.638776              88.876877     60.511979         22.363152   \n",
       "4           0.591485              75.565531     54.982158         13.165708   \n",
       "\n",
       "   Defensive Contribution  Big Game Performance  Consistency  \\\n",
       "0               30.412215              6.152481     0.820314   \n",
       "1               26.474913              6.093172     0.803321   \n",
       "2               24.164116              3.408714     0.766540   \n",
       "3               44.129989              6.339820     0.611798   \n",
       "4               37.859323              8.465658     0.701638   \n",
       "\n",
       "   Penalty Success Rate  Impact on Team Performance  Off-field Conduct  \n",
       "0              0.922727                    8.570370          11.451388  \n",
       "1              0.678984                    3.444638           8.243689  \n",
       "2              0.843858                    8.429491           9.506835  \n",
       "3              0.662997                    6.532552           8.199653  \n",
       "4              0.906538                    8.414915           6.665333  "
      ]
     },
     "execution_count": 7,
     "metadata": {},
     "output_type": "execute_result"
    }
   ],
   "source": [
    "df1.head()"
   ]
  },
  {
   "cell_type": "code",
   "execution_count": 8,
   "id": "d5b41740",
   "metadata": {},
   "outputs": [
    {
     "name": "stdout",
     "output_type": "stream",
     "text": [
      "<class 'pandas.core.frame.DataFrame'>\n",
      "RangeIndex: 500 entries, 0 to 499\n",
      "Data columns (total 19 columns):\n",
      " #   Column                      Non-Null Count  Dtype  \n",
      "---  ------                      --------------  -----  \n",
      " 0   Striker_ID                  500 non-null    int64  \n",
      " 1   Nationality                 500 non-null    object \n",
      " 2   Footedness                  500 non-null    object \n",
      " 3   Marital Status              500 non-null    object \n",
      " 4   Goals Scored                500 non-null    float64\n",
      " 5   Assists                     500 non-null    float64\n",
      " 6   Shots on Target             500 non-null    float64\n",
      " 7   Shot Accuracy               500 non-null    float64\n",
      " 8   Conversion Rate             500 non-null    float64\n",
      " 9   Dribbling Success           500 non-null    float64\n",
      " 10  Movement off the Ball       494 non-null    float64\n",
      " 11  Hold-up Play                500 non-null    float64\n",
      " 12  Aerial Duels Won            500 non-null    float64\n",
      " 13  Defensive Contribution      500 non-null    float64\n",
      " 14  Big Game Performance        498 non-null    float64\n",
      " 15  Consistency                 500 non-null    float64\n",
      " 16  Penalty Success Rate        495 non-null    float64\n",
      " 17  Impact on Team Performance  500 non-null    float64\n",
      " 18  Off-field Conduct           500 non-null    float64\n",
      "dtypes: float64(15), int64(1), object(3)\n",
      "memory usage: 74.3+ KB\n"
     ]
    }
   ],
   "source": [
    "df1.info()"
   ]
  },
  {
   "cell_type": "code",
   "execution_count": 9,
   "id": "b9c4825c",
   "metadata": {},
   "outputs": [
    {
     "name": "stdout",
     "output_type": "stream",
     "text": [
      "Rows and Column :  (500, 19)\n"
     ]
    }
   ],
   "source": [
    "print(\"Rows and Column : \",df1.shape)"
   ]
  },
  {
   "cell_type": "code",
   "execution_count": 10,
   "id": "6157609e",
   "metadata": {},
   "outputs": [
    {
     "name": "stdout",
     "output_type": "stream",
     "text": [
      "Striker_ID                    0\n",
      "Nationality                   0\n",
      "Footedness                    0\n",
      "Marital Status                0\n",
      "Goals Scored                  0\n",
      "Assists                       0\n",
      "Shots on Target               0\n",
      "Shot Accuracy                 0\n",
      "Conversion Rate               0\n",
      "Dribbling Success             0\n",
      "Movement off the Ball         6\n",
      "Hold-up Play                  0\n",
      "Aerial Duels Won              0\n",
      "Defensive Contribution        0\n",
      "Big Game Performance          2\n",
      "Consistency                   0\n",
      "Penalty Success Rate          5\n",
      "Impact on Team Performance    0\n",
      "Off-field Conduct             0\n",
      "dtype: int64\n"
     ]
    }
   ],
   "source": [
    "print(df1.isnull().sum())"
   ]
  },
  {
   "cell_type": "code",
   "execution_count": 13,
   "id": "f48a583e",
   "metadata": {},
   "outputs": [
    {
     "data": {
      "text/html": [
       "<div>\n",
       "<style scoped>\n",
       "    .dataframe tbody tr th:only-of-type {\n",
       "        vertical-align: middle;\n",
       "    }\n",
       "\n",
       "    .dataframe tbody tr th {\n",
       "        vertical-align: top;\n",
       "    }\n",
       "\n",
       "    .dataframe thead th {\n",
       "        text-align: right;\n",
       "    }\n",
       "</style>\n",
       "<table border=\"1\" class=\"dataframe\">\n",
       "  <thead>\n",
       "    <tr style=\"text-align: right;\">\n",
       "      <th></th>\n",
       "      <th>Striker_ID</th>\n",
       "      <th>Goals Scored</th>\n",
       "      <th>Assists</th>\n",
       "      <th>Shots on Target</th>\n",
       "      <th>Shot Accuracy</th>\n",
       "      <th>Conversion Rate</th>\n",
       "      <th>Dribbling Success</th>\n",
       "      <th>Movement off the Ball</th>\n",
       "      <th>Hold-up Play</th>\n",
       "      <th>Aerial Duels Won</th>\n",
       "      <th>Defensive Contribution</th>\n",
       "      <th>Big Game Performance</th>\n",
       "      <th>Consistency</th>\n",
       "      <th>Penalty Success Rate</th>\n",
       "      <th>Impact on Team Performance</th>\n",
       "      <th>Off-field Conduct</th>\n",
       "    </tr>\n",
       "  </thead>\n",
       "  <tbody>\n",
       "    <tr>\n",
       "      <th>count</th>\n",
       "      <td>500.000000</td>\n",
       "      <td>500.000000</td>\n",
       "      <td>500.000000</td>\n",
       "      <td>500.000000</td>\n",
       "      <td>500.000000</td>\n",
       "      <td>500.000000</td>\n",
       "      <td>500.000000</td>\n",
       "      <td>494.000000</td>\n",
       "      <td>500.000000</td>\n",
       "      <td>500.000000</td>\n",
       "      <td>500.000000</td>\n",
       "      <td>498.000000</td>\n",
       "      <td>500.000000</td>\n",
       "      <td>495.000000</td>\n",
       "      <td>500.000000</td>\n",
       "      <td>500.000000</td>\n",
       "    </tr>\n",
       "    <tr>\n",
       "      <th>mean</th>\n",
       "      <td>250.500000</td>\n",
       "      <td>15.036603</td>\n",
       "      <td>8.095660</td>\n",
       "      <td>25.759392</td>\n",
       "      <td>0.603319</td>\n",
       "      <td>0.199424</td>\n",
       "      <td>0.702133</td>\n",
       "      <td>69.790151</td>\n",
       "      <td>59.810879</td>\n",
       "      <td>19.529831</td>\n",
       "      <td>39.954865</td>\n",
       "      <td>6.928509</td>\n",
       "      <td>0.743628</td>\n",
       "      <td>0.795525</td>\n",
       "      <td>7.012619</td>\n",
       "      <td>8.064249</td>\n",
       "    </tr>\n",
       "    <tr>\n",
       "      <th>std</th>\n",
       "      <td>144.481833</td>\n",
       "      <td>4.898554</td>\n",
       "      <td>2.933487</td>\n",
       "      <td>7.071724</td>\n",
       "      <td>0.098407</td>\n",
       "      <td>0.047978</td>\n",
       "      <td>0.100108</td>\n",
       "      <td>10.400347</td>\n",
       "      <td>10.167912</td>\n",
       "      <td>4.958031</td>\n",
       "      <td>9.921254</td>\n",
       "      <td>1.940599</td>\n",
       "      <td>0.103619</td>\n",
       "      <td>0.103053</td>\n",
       "      <td>2.100270</td>\n",
       "      <td>2.068334</td>\n",
       "    </tr>\n",
       "    <tr>\n",
       "      <th>min</th>\n",
       "      <td>1.000000</td>\n",
       "      <td>0.000000</td>\n",
       "      <td>0.000000</td>\n",
       "      <td>4.726212</td>\n",
       "      <td>0.305961</td>\n",
       "      <td>0.049024</td>\n",
       "      <td>0.400886</td>\n",
       "      <td>40.705513</td>\n",
       "      <td>35.067292</td>\n",
       "      <td>4.961838</td>\n",
       "      <td>8.232962</td>\n",
       "      <td>2.231386</td>\n",
       "      <td>0.460049</td>\n",
       "      <td>0.529246</td>\n",
       "      <td>0.557967</td>\n",
       "      <td>0.623269</td>\n",
       "    </tr>\n",
       "    <tr>\n",
       "      <th>25%</th>\n",
       "      <td>125.750000</td>\n",
       "      <td>11.498463</td>\n",
       "      <td>6.214125</td>\n",
       "      <td>20.782993</td>\n",
       "      <td>0.538806</td>\n",
       "      <td>0.166963</td>\n",
       "      <td>0.637285</td>\n",
       "      <td>62.668746</td>\n",
       "      <td>52.425012</td>\n",
       "      <td>16.395836</td>\n",
       "      <td>33.458187</td>\n",
       "      <td>5.683096</td>\n",
       "      <td>0.675834</td>\n",
       "      <td>0.723800</td>\n",
       "      <td>5.656504</td>\n",
       "      <td>6.615688</td>\n",
       "    </tr>\n",
       "    <tr>\n",
       "      <th>50%</th>\n",
       "      <td>250.500000</td>\n",
       "      <td>15.063986</td>\n",
       "      <td>8.085595</td>\n",
       "      <td>25.838641</td>\n",
       "      <td>0.599109</td>\n",
       "      <td>0.199842</td>\n",
       "      <td>0.700354</td>\n",
       "      <td>69.617049</td>\n",
       "      <td>60.075293</td>\n",
       "      <td>19.741772</td>\n",
       "      <td>39.978322</td>\n",
       "      <td>6.912446</td>\n",
       "      <td>0.745519</td>\n",
       "      <td>0.795853</td>\n",
       "      <td>6.991318</td>\n",
       "      <td>8.016586</td>\n",
       "    </tr>\n",
       "    <tr>\n",
       "      <th>75%</th>\n",
       "      <td>375.250000</td>\n",
       "      <td>18.183916</td>\n",
       "      <td>9.953727</td>\n",
       "      <td>30.283169</td>\n",
       "      <td>0.669977</td>\n",
       "      <td>0.233459</td>\n",
       "      <td>0.763227</td>\n",
       "      <td>76.953526</td>\n",
       "      <td>66.033512</td>\n",
       "      <td>22.856931</td>\n",
       "      <td>46.693579</td>\n",
       "      <td>8.177377</td>\n",
       "      <td>0.812646</td>\n",
       "      <td>0.869923</td>\n",
       "      <td>8.431703</td>\n",
       "      <td>9.452531</td>\n",
       "    </tr>\n",
       "    <tr>\n",
       "      <th>max</th>\n",
       "      <td>500.000000</td>\n",
       "      <td>34.263657</td>\n",
       "      <td>15.897146</td>\n",
       "      <td>43.211782</td>\n",
       "      <td>0.919311</td>\n",
       "      <td>0.355496</td>\n",
       "      <td>1.000000</td>\n",
       "      <td>98.684031</td>\n",
       "      <td>92.430930</td>\n",
       "      <td>34.073272</td>\n",
       "      <td>71.129102</td>\n",
       "      <td>12.871316</td>\n",
       "      <td>1.000000</td>\n",
       "      <td>1.000000</td>\n",
       "      <td>13.235362</td>\n",
       "      <td>13.730424</td>\n",
       "    </tr>\n",
       "  </tbody>\n",
       "</table>\n",
       "</div>"
      ],
      "text/plain": [
       "       Striker_ID  Goals Scored     Assists  Shots on Target  Shot Accuracy  \\\n",
       "count  500.000000    500.000000  500.000000       500.000000     500.000000   \n",
       "mean   250.500000     15.036603    8.095660        25.759392       0.603319   \n",
       "std    144.481833      4.898554    2.933487         7.071724       0.098407   \n",
       "min      1.000000      0.000000    0.000000         4.726212       0.305961   \n",
       "25%    125.750000     11.498463    6.214125        20.782993       0.538806   \n",
       "50%    250.500000     15.063986    8.085595        25.838641       0.599109   \n",
       "75%    375.250000     18.183916    9.953727        30.283169       0.669977   \n",
       "max    500.000000     34.263657   15.897146        43.211782       0.919311   \n",
       "\n",
       "       Conversion Rate  Dribbling Success  Movement off the Ball  \\\n",
       "count       500.000000         500.000000             494.000000   \n",
       "mean          0.199424           0.702133              69.790151   \n",
       "std           0.047978           0.100108              10.400347   \n",
       "min           0.049024           0.400886              40.705513   \n",
       "25%           0.166963           0.637285              62.668746   \n",
       "50%           0.199842           0.700354              69.617049   \n",
       "75%           0.233459           0.763227              76.953526   \n",
       "max           0.355496           1.000000              98.684031   \n",
       "\n",
       "       Hold-up Play  Aerial Duels Won  Defensive Contribution  \\\n",
       "count    500.000000        500.000000              500.000000   \n",
       "mean      59.810879         19.529831               39.954865   \n",
       "std       10.167912          4.958031                9.921254   \n",
       "min       35.067292          4.961838                8.232962   \n",
       "25%       52.425012         16.395836               33.458187   \n",
       "50%       60.075293         19.741772               39.978322   \n",
       "75%       66.033512         22.856931               46.693579   \n",
       "max       92.430930         34.073272               71.129102   \n",
       "\n",
       "       Big Game Performance  Consistency  Penalty Success Rate  \\\n",
       "count            498.000000   500.000000            495.000000   \n",
       "mean               6.928509     0.743628              0.795525   \n",
       "std                1.940599     0.103619              0.103053   \n",
       "min                2.231386     0.460049              0.529246   \n",
       "25%                5.683096     0.675834              0.723800   \n",
       "50%                6.912446     0.745519              0.795853   \n",
       "75%                8.177377     0.812646              0.869923   \n",
       "max               12.871316     1.000000              1.000000   \n",
       "\n",
       "       Impact on Team Performance  Off-field Conduct  \n",
       "count                  500.000000         500.000000  \n",
       "mean                     7.012619           8.064249  \n",
       "std                      2.100270           2.068334  \n",
       "min                      0.557967           0.623269  \n",
       "25%                      5.656504           6.615688  \n",
       "50%                      6.991318           8.016586  \n",
       "75%                      8.431703           9.452531  \n",
       "max                     13.235362          13.730424  "
      ]
     },
     "execution_count": 13,
     "metadata": {},
     "output_type": "execute_result"
    }
   ],
   "source": [
    "df1.describe()"
   ]
  },
  {
   "cell_type": "markdown",
   "id": "34da8c51",
   "metadata": {},
   "source": [
    "### Data Transformation and Cleaning"
   ]
  },
  {
   "cell_type": "code",
   "execution_count": 14,
   "id": "de303337",
   "metadata": {},
   "outputs": [
    {
     "data": {
      "text/plain": [
       "Index(['Striker_ID', 'Nationality', 'Footedness', 'Marital Status',\n",
       "       'Goals Scored', 'Assists', 'Shots on Target', 'Shot Accuracy',\n",
       "       'Conversion Rate', 'Dribbling Success', 'Movement off the Ball',\n",
       "       'Hold-up Play', 'Aerial Duels Won', 'Defensive Contribution',\n",
       "       'Big Game Performance', 'Consistency', 'Penalty Success Rate',\n",
       "       'Impact on Team Performance', 'Off-field Conduct'],\n",
       "      dtype='object')"
      ]
     },
     "execution_count": 14,
     "metadata": {},
     "output_type": "execute_result"
    }
   ],
   "source": [
    "df1.columns"
   ]
  },
  {
   "cell_type": "code",
   "execution_count": 15,
   "id": "2ae2c8d9",
   "metadata": {},
   "outputs": [],
   "source": [
    "columns_to_round = [\"Goals Scored\", \"Assists\", \"Shots on Target\"]\n",
    "\n",
    "df1[columns_to_round] = df1[columns_to_round].round(0).astype(int)\n"
   ]
  },
  {
   "cell_type": "code",
   "execution_count": 16,
   "id": "28c8eb9a",
   "metadata": {},
   "outputs": [],
   "source": [
    "columns_to_round = ['Shot Accuracy', 'Conversion Rate', 'Dribbling Success', 'Movement off the Ball','Hold-up Play', \n",
    "'Aerial Duels Won', 'Defensive Contribution', 'Big Game Performance', 'Consistency', \n",
    "'Penalty Success Rate', 'Impact on Team Performance', 'Off-field Conduct']\n",
    "\n",
    "\n",
    "df1[columns_to_round] = df1[columns_to_round].round(2)\n"
   ]
  },
  {
   "cell_type": "code",
   "execution_count": 17,
   "id": "94ac6a96",
   "metadata": {},
   "outputs": [
    {
     "data": {
      "text/html": [
       "<div>\n",
       "<style scoped>\n",
       "    .dataframe tbody tr th:only-of-type {\n",
       "        vertical-align: middle;\n",
       "    }\n",
       "\n",
       "    .dataframe tbody tr th {\n",
       "        vertical-align: top;\n",
       "    }\n",
       "\n",
       "    .dataframe thead th {\n",
       "        text-align: right;\n",
       "    }\n",
       "</style>\n",
       "<table border=\"1\" class=\"dataframe\">\n",
       "  <thead>\n",
       "    <tr style=\"text-align: right;\">\n",
       "      <th></th>\n",
       "      <th>Striker_ID</th>\n",
       "      <th>Nationality</th>\n",
       "      <th>Footedness</th>\n",
       "      <th>Marital Status</th>\n",
       "      <th>Goals Scored</th>\n",
       "      <th>Assists</th>\n",
       "      <th>Shots on Target</th>\n",
       "      <th>Shot Accuracy</th>\n",
       "      <th>Conversion Rate</th>\n",
       "      <th>Dribbling Success</th>\n",
       "      <th>Movement off the Ball</th>\n",
       "      <th>Hold-up Play</th>\n",
       "      <th>Aerial Duels Won</th>\n",
       "      <th>Defensive Contribution</th>\n",
       "      <th>Big Game Performance</th>\n",
       "      <th>Consistency</th>\n",
       "      <th>Penalty Success Rate</th>\n",
       "      <th>Impact on Team Performance</th>\n",
       "      <th>Off-field Conduct</th>\n",
       "    </tr>\n",
       "  </thead>\n",
       "  <tbody>\n",
       "    <tr>\n",
       "      <th>0</th>\n",
       "      <td>1</td>\n",
       "      <td>Spain</td>\n",
       "      <td>Left-footed</td>\n",
       "      <td>No</td>\n",
       "      <td>17</td>\n",
       "      <td>11</td>\n",
       "      <td>35</td>\n",
       "      <td>0.68</td>\n",
       "      <td>0.17</td>\n",
       "      <td>0.76</td>\n",
       "      <td>50.92</td>\n",
       "      <td>71.81</td>\n",
       "      <td>15.68</td>\n",
       "      <td>30.41</td>\n",
       "      <td>6.15</td>\n",
       "      <td>0.82</td>\n",
       "      <td>0.92</td>\n",
       "      <td>8.57</td>\n",
       "      <td>11.45</td>\n",
       "    </tr>\n",
       "    <tr>\n",
       "      <th>1</th>\n",
       "      <td>2</td>\n",
       "      <td>France</td>\n",
       "      <td>Left-footed</td>\n",
       "      <td>Yes</td>\n",
       "      <td>14</td>\n",
       "      <td>14</td>\n",
       "      <td>31</td>\n",
       "      <td>0.54</td>\n",
       "      <td>0.19</td>\n",
       "      <td>0.80</td>\n",
       "      <td>61.40</td>\n",
       "      <td>53.73</td>\n",
       "      <td>19.84</td>\n",
       "      <td>26.47</td>\n",
       "      <td>6.09</td>\n",
       "      <td>0.80</td>\n",
       "      <td>0.68</td>\n",
       "      <td>3.44</td>\n",
       "      <td>8.24</td>\n",
       "    </tr>\n",
       "    <tr>\n",
       "      <th>2</th>\n",
       "      <td>3</td>\n",
       "      <td>Germany</td>\n",
       "      <td>Left-footed</td>\n",
       "      <td>No</td>\n",
       "      <td>18</td>\n",
       "      <td>4</td>\n",
       "      <td>25</td>\n",
       "      <td>0.52</td>\n",
       "      <td>0.16</td>\n",
       "      <td>0.67</td>\n",
       "      <td>65.86</td>\n",
       "      <td>60.45</td>\n",
       "      <td>20.09</td>\n",
       "      <td>24.16</td>\n",
       "      <td>3.41</td>\n",
       "      <td>0.77</td>\n",
       "      <td>0.84</td>\n",
       "      <td>8.43</td>\n",
       "      <td>9.51</td>\n",
       "    </tr>\n",
       "    <tr>\n",
       "      <th>3</th>\n",
       "      <td>4</td>\n",
       "      <td>France</td>\n",
       "      <td>Right-footed</td>\n",
       "      <td>No</td>\n",
       "      <td>23</td>\n",
       "      <td>10</td>\n",
       "      <td>20</td>\n",
       "      <td>0.60</td>\n",
       "      <td>0.18</td>\n",
       "      <td>0.64</td>\n",
       "      <td>88.88</td>\n",
       "      <td>60.51</td>\n",
       "      <td>22.36</td>\n",
       "      <td>44.13</td>\n",
       "      <td>6.34</td>\n",
       "      <td>0.61</td>\n",
       "      <td>0.66</td>\n",
       "      <td>6.53</td>\n",
       "      <td>8.20</td>\n",
       "    </tr>\n",
       "    <tr>\n",
       "      <th>4</th>\n",
       "      <td>5</td>\n",
       "      <td>France</td>\n",
       "      <td>Left-footed</td>\n",
       "      <td>Yes</td>\n",
       "      <td>14</td>\n",
       "      <td>6</td>\n",
       "      <td>30</td>\n",
       "      <td>0.58</td>\n",
       "      <td>0.11</td>\n",
       "      <td>0.59</td>\n",
       "      <td>75.57</td>\n",
       "      <td>54.98</td>\n",
       "      <td>13.17</td>\n",
       "      <td>37.86</td>\n",
       "      <td>8.47</td>\n",
       "      <td>0.70</td>\n",
       "      <td>0.91</td>\n",
       "      <td>8.41</td>\n",
       "      <td>6.67</td>\n",
       "    </tr>\n",
       "  </tbody>\n",
       "</table>\n",
       "</div>"
      ],
      "text/plain": [
       "   Striker_ID Nationality    Footedness Marital Status  Goals Scored  Assists  \\\n",
       "0           1       Spain   Left-footed             No            17       11   \n",
       "1           2      France   Left-footed            Yes            14       14   \n",
       "2           3     Germany   Left-footed             No            18        4   \n",
       "3           4      France  Right-footed             No            23       10   \n",
       "4           5      France   Left-footed            Yes            14        6   \n",
       "\n",
       "   Shots on Target  Shot Accuracy  Conversion Rate  Dribbling Success  \\\n",
       "0               35           0.68             0.17               0.76   \n",
       "1               31           0.54             0.19               0.80   \n",
       "2               25           0.52             0.16               0.67   \n",
       "3               20           0.60             0.18               0.64   \n",
       "4               30           0.58             0.11               0.59   \n",
       "\n",
       "   Movement off the Ball  Hold-up Play  Aerial Duels Won  \\\n",
       "0                  50.92         71.81             15.68   \n",
       "1                  61.40         53.73             19.84   \n",
       "2                  65.86         60.45             20.09   \n",
       "3                  88.88         60.51             22.36   \n",
       "4                  75.57         54.98             13.17   \n",
       "\n",
       "   Defensive Contribution  Big Game Performance  Consistency  \\\n",
       "0                   30.41                  6.15         0.82   \n",
       "1                   26.47                  6.09         0.80   \n",
       "2                   24.16                  3.41         0.77   \n",
       "3                   44.13                  6.34         0.61   \n",
       "4                   37.86                  8.47         0.70   \n",
       "\n",
       "   Penalty Success Rate  Impact on Team Performance  Off-field Conduct  \n",
       "0                  0.92                        8.57              11.45  \n",
       "1                  0.68                        3.44               8.24  \n",
       "2                  0.84                        8.43               9.51  \n",
       "3                  0.66                        6.53               8.20  \n",
       "4                  0.91                        8.41               6.67  "
      ]
     },
     "execution_count": 17,
     "metadata": {},
     "output_type": "execute_result"
    }
   ],
   "source": [
    "df1.head()"
   ]
  },
  {
   "cell_type": "code",
   "execution_count": 20,
   "id": "3fb8c276",
   "metadata": {},
   "outputs": [
    {
     "data": {
      "text/plain": [
       "Movement off the Ball         6\n",
       "Penalty Success Rate          5\n",
       "Big Game Performance          2\n",
       "Striker_ID                    0\n",
       "Impact on Team Performance    0\n",
       "Consistency                   0\n",
       "Defensive Contribution        0\n",
       "Aerial Duels Won              0\n",
       "Hold-up Play                  0\n",
       "Dribbling Success             0\n",
       "Nationality                   0\n",
       "Conversion Rate               0\n",
       "Shot Accuracy                 0\n",
       "Shots on Target               0\n",
       "Assists                       0\n",
       "Goals Scored                  0\n",
       "Marital Status                0\n",
       "Footedness                    0\n",
       "Off-field Conduct             0\n",
       "dtype: int64"
      ]
     },
     "execution_count": 20,
     "metadata": {},
     "output_type": "execute_result"
    }
   ],
   "source": [
    "df1.isnull().sum().sort_values(ascending=False)"
   ]
  },
  {
   "cell_type": "code",
   "execution_count": 47,
   "id": "e6897aa8",
   "metadata": {},
   "outputs": [
    {
     "data": {
      "text/html": [
       "<div>\n",
       "<style scoped>\n",
       "    .dataframe tbody tr th:only-of-type {\n",
       "        vertical-align: middle;\n",
       "    }\n",
       "\n",
       "    .dataframe tbody tr th {\n",
       "        vertical-align: top;\n",
       "    }\n",
       "\n",
       "    .dataframe thead th {\n",
       "        text-align: right;\n",
       "    }\n",
       "</style>\n",
       "<table border=\"1\" class=\"dataframe\">\n",
       "  <thead>\n",
       "    <tr style=\"text-align: right;\">\n",
       "      <th></th>\n",
       "      <th>Movement off the Ball</th>\n",
       "      <th>Penalty Success Rate</th>\n",
       "      <th>Big Game Performance</th>\n",
       "    </tr>\n",
       "  </thead>\n",
       "  <tbody>\n",
       "    <tr>\n",
       "      <th>0</th>\n",
       "      <td>50.92</td>\n",
       "      <td>50.92</td>\n",
       "      <td>50.92</td>\n",
       "    </tr>\n",
       "    <tr>\n",
       "      <th>1</th>\n",
       "      <td>61.40</td>\n",
       "      <td>61.40</td>\n",
       "      <td>61.40</td>\n",
       "    </tr>\n",
       "    <tr>\n",
       "      <th>2</th>\n",
       "      <td>65.86</td>\n",
       "      <td>65.86</td>\n",
       "      <td>65.86</td>\n",
       "    </tr>\n",
       "    <tr>\n",
       "      <th>3</th>\n",
       "      <td>88.88</td>\n",
       "      <td>88.88</td>\n",
       "      <td>88.88</td>\n",
       "    </tr>\n",
       "    <tr>\n",
       "      <th>4</th>\n",
       "      <td>75.57</td>\n",
       "      <td>75.57</td>\n",
       "      <td>75.57</td>\n",
       "    </tr>\n",
       "    <tr>\n",
       "      <th>...</th>\n",
       "      <td>...</td>\n",
       "      <td>...</td>\n",
       "      <td>...</td>\n",
       "    </tr>\n",
       "    <tr>\n",
       "      <th>495</th>\n",
       "      <td>89.35</td>\n",
       "      <td>89.35</td>\n",
       "      <td>89.35</td>\n",
       "    </tr>\n",
       "    <tr>\n",
       "      <th>496</th>\n",
       "      <td>78.16</td>\n",
       "      <td>78.16</td>\n",
       "      <td>78.16</td>\n",
       "    </tr>\n",
       "    <tr>\n",
       "      <th>497</th>\n",
       "      <td>69.52</td>\n",
       "      <td>69.52</td>\n",
       "      <td>69.52</td>\n",
       "    </tr>\n",
       "    <tr>\n",
       "      <th>498</th>\n",
       "      <td>68.17</td>\n",
       "      <td>68.17</td>\n",
       "      <td>68.17</td>\n",
       "    </tr>\n",
       "    <tr>\n",
       "      <th>499</th>\n",
       "      <td>66.43</td>\n",
       "      <td>66.43</td>\n",
       "      <td>66.43</td>\n",
       "    </tr>\n",
       "  </tbody>\n",
       "</table>\n",
       "<p>500 rows × 3 columns</p>\n",
       "</div>"
      ],
      "text/plain": [
       "     Movement off the Ball  Penalty Success Rate  Big Game Performance\n",
       "0                    50.92                 50.92                 50.92\n",
       "1                    61.40                 61.40                 61.40\n",
       "2                    65.86                 65.86                 65.86\n",
       "3                    88.88                 88.88                 88.88\n",
       "4                    75.57                 75.57                 75.57\n",
       "..                     ...                   ...                   ...\n",
       "495                  89.35                 89.35                 89.35\n",
       "496                  78.16                 78.16                 78.16\n",
       "497                  69.52                 69.52                 69.52\n",
       "498                  68.17                 68.17                 68.17\n",
       "499                  66.43                 66.43                 66.43\n",
       "\n",
       "[500 rows x 3 columns]"
      ]
     },
     "execution_count": 47,
     "metadata": {},
     "output_type": "execute_result"
    }
   ],
   "source": [
    "df1[[\"Movement off the Ball\", \"Penalty Success Rate\", \"Big Game Performance\"]]"
   ]
  },
  {
   "cell_type": "code",
   "execution_count": 23,
   "id": "ef9a24c8",
   "metadata": {},
   "outputs": [
    {
     "data": {
      "text/html": [
       "<div>\n",
       "<style scoped>\n",
       "    .dataframe tbody tr th:only-of-type {\n",
       "        vertical-align: middle;\n",
       "    }\n",
       "\n",
       "    .dataframe tbody tr th {\n",
       "        vertical-align: top;\n",
       "    }\n",
       "\n",
       "    .dataframe thead th {\n",
       "        text-align: right;\n",
       "    }\n",
       "</style>\n",
       "<table border=\"1\" class=\"dataframe\">\n",
       "  <thead>\n",
       "    <tr style=\"text-align: right;\">\n",
       "      <th></th>\n",
       "      <th>Movement off the Ball</th>\n",
       "      <th>Penalty Success Rate</th>\n",
       "      <th>Big Game Performance</th>\n",
       "    </tr>\n",
       "  </thead>\n",
       "  <tbody>\n",
       "    <tr>\n",
       "      <th>count</th>\n",
       "      <td>494.000000</td>\n",
       "      <td>495.000000</td>\n",
       "      <td>498.000000</td>\n",
       "    </tr>\n",
       "    <tr>\n",
       "      <th>mean</th>\n",
       "      <td>69.790000</td>\n",
       "      <td>0.795515</td>\n",
       "      <td>6.928835</td>\n",
       "    </tr>\n",
       "    <tr>\n",
       "      <th>std</th>\n",
       "      <td>10.400252</td>\n",
       "      <td>0.103204</td>\n",
       "      <td>1.940752</td>\n",
       "    </tr>\n",
       "    <tr>\n",
       "      <th>min</th>\n",
       "      <td>40.710000</td>\n",
       "      <td>0.530000</td>\n",
       "      <td>2.230000</td>\n",
       "    </tr>\n",
       "    <tr>\n",
       "      <th>25%</th>\n",
       "      <td>62.670000</td>\n",
       "      <td>0.720000</td>\n",
       "      <td>5.682500</td>\n",
       "    </tr>\n",
       "    <tr>\n",
       "      <th>50%</th>\n",
       "      <td>69.615000</td>\n",
       "      <td>0.800000</td>\n",
       "      <td>6.915000</td>\n",
       "    </tr>\n",
       "    <tr>\n",
       "      <th>75%</th>\n",
       "      <td>76.950000</td>\n",
       "      <td>0.870000</td>\n",
       "      <td>8.177500</td>\n",
       "    </tr>\n",
       "    <tr>\n",
       "      <th>max</th>\n",
       "      <td>98.680000</td>\n",
       "      <td>1.000000</td>\n",
       "      <td>12.870000</td>\n",
       "    </tr>\n",
       "  </tbody>\n",
       "</table>\n",
       "</div>"
      ],
      "text/plain": [
       "       Movement off the Ball  Penalty Success Rate  Big Game Performance\n",
       "count             494.000000            495.000000            498.000000\n",
       "mean               69.790000              0.795515              6.928835\n",
       "std                10.400252              0.103204              1.940752\n",
       "min                40.710000              0.530000              2.230000\n",
       "25%                62.670000              0.720000              5.682500\n",
       "50%                69.615000              0.800000              6.915000\n",
       "75%                76.950000              0.870000              8.177500\n",
       "max                98.680000              1.000000             12.870000"
      ]
     },
     "execution_count": 23,
     "metadata": {},
     "output_type": "execute_result"
    }
   ],
   "source": [
    "df1[[\"Movement off the Ball\", \"Penalty Success Rate\", \"Big Game Performance\"]].describe()\n"
   ]
  },
  {
   "cell_type": "code",
   "execution_count": 26,
   "id": "bb74b51f",
   "metadata": {},
   "outputs": [
    {
     "data": {
      "image/png": "[encoded data removed]",
      "text/plain": [
       "<Figure size 1000x500 with 1 Axes>"
      ]
     },
     "metadata": {},
     "output_type": "display_data"
    },
    {
     "data": {
      "image/png": "[encoded data removed]",
      "text/plain": [
       "<Figure size 1000x500 with 1 Axes>"
      ]
     },
     "metadata": {},
     "output_type": "display_data"
    },
    {
     "data": {
      "image/png": "[encoded data removed]",
      "text/plain": [
       "<Figure size 1000x500 with 1 Axes>"
      ]
     },
     "metadata": {},
     "output_type": "display_data"
    }
   ],
   "source": [
    "for i in df1[[\"Movement off the Ball\", \"Penalty Success Rate\", \"Big Game Performance\"]]:\n",
    "    plt.figure(figsize=(10,5))\n",
    "    sns.histplot(df1[i])\n",
    "    plt.show()"
   ]
  },
  {
   "cell_type": "code",
   "execution_count": 30,
   "id": "b041f10b",
   "metadata": {},
   "outputs": [
    {
     "data": {
      "text/plain": [
       "69.61500000000001"
      ]
     },
     "execution_count": 30,
     "metadata": {},
     "output_type": "execute_result"
    }
   ],
   "source": [
    "df1['Movement off the Ball'].median()"
   ]
  },
  {
   "cell_type": "code",
   "execution_count": 31,
   "id": "222a8e56",
   "metadata": {},
   "outputs": [
    {
     "data": {
      "text/plain": [
       "0.8"
      ]
     },
     "execution_count": 31,
     "metadata": {},
     "output_type": "execute_result"
    }
   ],
   "source": [
    "df1['Penalty Success Rate'].median()"
   ]
  },
  {
   "cell_type": "code",
   "execution_count": 32,
   "id": "044c4040",
   "metadata": {},
   "outputs": [
    {
     "data": {
      "text/plain": [
       "6.915"
      ]
     },
     "execution_count": 32,
     "metadata": {},
     "output_type": "execute_result"
    }
   ],
   "source": [
    "df1['Big Game Performance'].median()"
   ]
  },
  {
   "cell_type": "code",
   "execution_count": 33,
   "id": "02ea3d2d",
   "metadata": {},
   "outputs": [],
   "source": [
    "# Replace those missing values with median values\n",
    "\n",
    "df1['Movement off the Ball'] = df1['Movement off the Ball'].fillna(df1['Movement off the Ball'].median())\n",
    "\n",
    "df1['Penalty Success Rate'] = df1['Movement off the Ball'].fillna(df1['Penalty Success Rate'].median())\n",
    "\n",
    "df1['Big Game Performance'] = df1['Movement off the Ball'].fillna(df1['Big Game Performance'].median())"
   ]
  },
  {
   "cell_type": "code",
   "execution_count": 34,
   "id": "d4220e6f",
   "metadata": {},
   "outputs": [
    {
     "data": {
      "text/plain": [
       "Striker_ID                    0\n",
       "Movement off the Ball         0\n",
       "Impact on Team Performance    0\n",
       "Penalty Success Rate          0\n",
       "Consistency                   0\n",
       "Big Game Performance          0\n",
       "Defensive Contribution        0\n",
       "Aerial Duels Won              0\n",
       "Hold-up Play                  0\n",
       "Dribbling Success             0\n",
       "Nationality                   0\n",
       "Conversion Rate               0\n",
       "Shot Accuracy                 0\n",
       "Shots on Target               0\n",
       "Assists                       0\n",
       "Goals Scored                  0\n",
       "Marital Status                0\n",
       "Footedness                    0\n",
       "Off-field Conduct             0\n",
       "dtype: int64"
      ]
     },
     "execution_count": 34,
     "metadata": {},
     "output_type": "execute_result"
    }
   ],
   "source": [
    "df1.isnull().sum().sort_values(ascending=False)"
   ]
  },
  {
   "cell_type": "code",
   "execution_count": 35,
   "id": "cbcaacda",
   "metadata": {},
   "outputs": [
    {
     "name": "stdout",
     "output_type": "stream",
     "text": [
      "<class 'pandas.core.frame.DataFrame'>\n",
      "RangeIndex: 500 entries, 0 to 499\n",
      "Data columns (total 19 columns):\n",
      " #   Column                      Non-Null Count  Dtype  \n",
      "---  ------                      --------------  -----  \n",
      " 0   Striker_ID                  500 non-null    int64  \n",
      " 1   Nationality                 500 non-null    object \n",
      " 2   Footedness                  500 non-null    object \n",
      " 3   Marital Status              500 non-null    object \n",
      " 4   Goals Scored                500 non-null    int32  \n",
      " 5   Assists                     500 non-null    int32  \n",
      " 6   Shots on Target             500 non-null    int32  \n",
      " 7   Shot Accuracy               500 non-null    float64\n",
      " 8   Conversion Rate             500 non-null    float64\n",
      " 9   Dribbling Success           500 non-null    float64\n",
      " 10  Movement off the Ball       500 non-null    float64\n",
      " 11  Hold-up Play                500 non-null    float64\n",
      " 12  Aerial Duels Won            500 non-null    float64\n",
      " 13  Defensive Contribution      500 non-null    float64\n",
      " 14  Big Game Performance        500 non-null    float64\n",
      " 15  Consistency                 500 non-null    float64\n",
      " 16  Penalty Success Rate        500 non-null    float64\n",
      " 17  Impact on Team Performance  500 non-null    float64\n",
      " 18  Off-field Conduct           500 non-null    float64\n",
      "dtypes: float64(12), int32(3), int64(1), object(3)\n",
      "memory usage: 68.5+ KB\n"
     ]
    }
   ],
   "source": [
    "df1.info()"
   ]
  },
  {
   "cell_type": "markdown",
   "id": "1bc38a6a",
   "metadata": {},
   "source": [
    "#### Now,there is no missing value"
   ]
  },
  {
   "cell_type": "markdown",
   "id": "3b0cbd2f",
   "metadata": {},
   "source": [
    "---------------------"
   ]
  },
  {
   "cell_type": "code",
   "execution_count": 42,
   "id": "b3617349",
   "metadata": {},
   "outputs": [
    {
     "data": {
      "text/plain": [
       "Right-footed    267\n",
       "Left-footed     233\n",
       "Name: Footedness, dtype: int64"
      ]
     },
     "execution_count": 42,
     "metadata": {},
     "output_type": "execute_result"
    }
   ],
   "source": [
    "df1[\"Footedness\"].value_counts()"
   ]
  },
  {
   "cell_type": "code",
   "execution_count": 37,
   "id": "fe2f9624",
   "metadata": {},
   "outputs": [],
   "source": [
    "footedness_counts = df1[\"Footedness\"].value_counts()\n"
   ]
  },
  {
   "cell_type": "code",
   "execution_count": 43,
   "id": "ccf3d040",
   "metadata": {},
   "outputs": [
    {
     "data": {
      "image/png": "[encoded data removed]",
      "text/plain": [
       "<Figure size 600x600 with 1 Axes>"
      ]
     },
     "metadata": {},
     "output_type": "display_data"
    }
   ],
   "source": [
    "plt.figure(figsize=(6, 6))\n",
    "plt.pie(footedness_counts, labels=footedness_counts.index, autopct='%1.1f%%')\n",
    "plt.title(\"Distribution of Footedness\")\n",
    "plt.show()"
   ]
  },
  {
   "cell_type": "code",
   "execution_count": 45,
   "id": "06b10d54",
   "metadata": {},
   "outputs": [
    {
     "data": {
      "text/plain": [
       "<function matplotlib.pyplot.show(close=None, block=None)>"
      ]
     },
     "execution_count": 45,
     "metadata": {},
     "output_type": "execute_result"
    },
    {
     "data": {
      "image/png": "[encoded data removed]",
      "text/plain": [
       "<Figure size 640x480 with 1 Axes>"
      ]
     },
     "metadata": {},
     "output_type": "display_data"
    }
   ],
   "source": [
    "sns.countplot(x= 'Nationality', data = df1)\n",
    "plt.xticks(rotation=90)\n",
    "plt.show"
   ]
  },
  {
   "cell_type": "code",
   "execution_count": null,
   "id": "3b586726",
   "metadata": {},
   "outputs": [],
   "source": []
  }
 ],
 "metadata": {
  "kernelspec": {
   "display_name": "Python 3 (ipykernel)",
   "language": "python",
   "name": "python3"
  },
  "language_info": {
   "codemirror_mode": {
    "name": "ipython",
    "version": 3
   },
   "file_extension": ".py",
   "mimetype": "text/x-python",
   "name": "python",
   "nbconvert_exporter": "python",
   "pygments_lexer": "ipython3",
   "version": "3.11.4"
  }
 },
 "nbformat": 4,
 "nbformat_minor": 5
}
