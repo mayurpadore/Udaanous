{
 "cells": [
  {
   "cell_type": "markdown",
   "id": "6a35fa33-b9c2-49f1-b668-0019998d599d",
   "metadata": {},
   "source": [
    "#### Problem 1: \n",
    "**You have a nested tuple nested_tuple = ((1, 2, 3), (4, 5, 6), (7, 8, 9)). Slice the second tuple (at index 1) and then extract the element at index 2 from it.**"
   ]
  },
  {
   "cell_type": "code",
   "execution_count": 1,
   "id": "1a0867bb-67ca-42c7-8a86-b9dc83df5f51",
   "metadata": {},
   "outputs": [
    {
     "data": {
      "text/plain": [
       "6"
      ]
     },
     "execution_count": 1,
     "metadata": {},
     "output_type": "execute_result"
    }
   ],
   "source": [
    "# Define the nested tuple\n",
    "\n",
    "nested_tuple = ((1, 2, 3), (4, 5, 6), (7, 8, 9))\n",
    "\n",
    "nested_tuple[1][2]"
   ]
  },
  {
   "cell_type": "markdown",
   "id": "beb278cf-ebd1-4836-b45f-2e39142ec316",
   "metadata": {},
   "source": [
    "#### Problem 2: \n",
    "**You have a nested list nested_list = [[\"a\", \"b\", \"c\"], [1, 2, 3], [\"x\", \"y\", \"z\"]]. Slice the second list (at index 1) and extract the element at index 2.**"
   ]
  },
  {
   "cell_type": "code",
   "execution_count": 2,
   "id": "afc11cc7-f367-4ee9-aa16-44919d1209a1",
   "metadata": {},
   "outputs": [
    {
     "data": {
      "text/plain": [
       "3"
      ]
     },
     "execution_count": 2,
     "metadata": {},
     "output_type": "execute_result"
    }
   ],
   "source": [
    "# Define the nested list\n",
    "\n",
    "nested_list = [[\"a\", \"b\", \"c\"], [1, 2, 3], [\"x\", \"y\", \"z\"]]\n",
    "\n",
    "nested_list[1][2]"
   ]
  },
  {
   "cell_type": "markdown",
   "id": "75ab11e9-91ad-49b2-aa96-6b3c2414dfe7",
   "metadata": {},
   "source": [
    "#### Problem 3: \n",
    "**You have a list numbers = [10, 20, 30, 40, 50]. Slice the last three elements using negative indices.**"
   ]
  },
  {
   "cell_type": "code",
   "execution_count": 3,
   "id": "842a21fb-b6f4-4084-9471-d39516bd2e7c",
   "metadata": {},
   "outputs": [
    {
     "data": {
      "text/plain": [
       "[30, 40, 50]"
      ]
     },
     "execution_count": 3,
     "metadata": {},
     "output_type": "execute_result"
    }
   ],
   "source": [
    "# Define the list\n",
    "\n",
    "numbers = [10, 20, 30, 40, 50]\n",
    "\n",
    "numbers[-3:]"
   ]
  },
  {
   "cell_type": "markdown",
   "id": "0d060ee0-23e6-4b63-8db4-700e15ecca00",
   "metadata": {},
   "source": [
    "#### Problem 4: \n",
    "**You have a list numbers = [10, 20, 30, 40, 50, 60]. Slice the list to extract every second element starting from index 1 and ending at index 5.**"
   ]
  },
  {
   "cell_type": "code",
   "execution_count": 4,
   "id": "3e32ba0c-4592-429d-8f7b-f4a5c7c0d843",
   "metadata": {},
   "outputs": [
    {
     "data": {
      "text/plain": [
       "[20, 40]"
      ]
     },
     "execution_count": 4,
     "metadata": {},
     "output_type": "execute_result"
    }
   ],
   "source": [
    "# Define the list\n",
    "\n",
    "numbers = [10, 20, 30, 40, 50, 60]\n",
    "\n",
    "numbers[1:5:2]"
   ]
  },
  {
   "cell_type": "markdown",
   "id": "0c058f79-9f24-426a-ab69-b01dd268e5fd",
   "metadata": {},
   "source": [
    "#### Problem 5: \n",
    "**You have a list fruits = [\"apple\", \"banana\", \"cherry\"]. Add \"orange\" to the list using the append() method.**"
   ]
  },
  {
   "cell_type": "code",
   "execution_count": 6,
   "id": "b85d6015-b060-44a4-8b8d-deff0eafbaec",
   "metadata": {},
   "outputs": [
    {
     "data": {
      "text/plain": [
       "['apple', 'banana', 'cherry', 'orange']"
      ]
     },
     "execution_count": 6,
     "metadata": {},
     "output_type": "execute_result"
    }
   ],
   "source": [
    "# Define the list\n",
    "\n",
    "fruits = [\"apple\", \"banana\", \"cherry\"]\n",
    "\n",
    "fruits.append(\"orange\")\n",
    "\n",
    "fruits"
   ]
  },
  {
   "cell_type": "markdown",
   "id": "77d61064-34e7-4e93-a0c8-8c2822821806",
   "metadata": {},
   "source": [
    "#### Problem 6: \n",
    "**You have a list fruits = [\"apple\", \"banana\", \"cherry\", \"orange\"]. Remove \"banana\" from the list using the remove() method.**"
   ]
  },
  {
   "cell_type": "code",
   "execution_count": 8,
   "id": "ec884c5d-7a47-40ee-b531-0136e3edba47",
   "metadata": {},
   "outputs": [
    {
     "data": {
      "text/plain": [
       "['apple', 'cherry', 'orange']"
      ]
     },
     "execution_count": 8,
     "metadata": {},
     "output_type": "execute_result"
    }
   ],
   "source": [
    "# Define the list\n",
    "\n",
    "fruits = [\"apple\", \"banana\", \"cherry\", \"orange\"]\n",
    "\n",
    "fruits.remove(\"banana\")\n",
    "\n",
    "fruits"
   ]
  },
  {
   "cell_type": "code",
   "execution_count": null,
   "id": "389f01d1-c9a2-4ca9-b53f-62b68b559418",
   "metadata": {},
   "outputs": [],
   "source": []
  }
 ],
 "metadata": {
  "kernelspec": {
   "display_name": "Python 3 (ipykernel)",
   "language": "python",
   "name": "python3"
  },
  "language_info": {
   "codemirror_mode": {
    "name": "ipython",
    "version": 3
   },
   "file_extension": ".py",
   "mimetype": "text/x-python",
   "name": "python",
   "nbconvert_exporter": "python",
   "pygments_lexer": "ipython3",
   "version": "3.11.4"
  }
 },
 "nbformat": 4,
 "nbformat_minor": 5
}
