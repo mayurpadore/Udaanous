{
 "cells": [
  {
   "cell_type": "code",
   "execution_count": 1,
   "id": "c6e94fc1",
   "metadata": {},
   "outputs": [],
   "source": [
    "# Suppress Warnings\n",
    "\n",
    "import warnings\n",
    "warnings.filterwarnings(\"ignore\")"
   ]
  },
  {
   "cell_type": "code",
   "execution_count": 2,
   "id": "32ffb5ac",
   "metadata": {},
   "outputs": [],
   "source": [
    "# Import Libraries\n",
    "\n",
    "import numpy as np\n",
    "import pandas as pd\n",
    "import matplotlib.pyplot as plt\n",
    "import seaborn as sns"
   ]
  },
  {
   "cell_type": "code",
   "execution_count": 3,
   "id": "3b7b55b2",
   "metadata": {},
   "outputs": [],
   "source": [
    "df_ball = pd.read_csv(\"IPL Ball-by-Ball 2008-2020.csv\")\n",
    "df_matches = pd.read_csv(\"IPL Matches 2008-2020.csv\")"
   ]
  },
  {
   "cell_type": "code",
   "execution_count": 4,
   "id": "777aaeef",
   "metadata": {},
   "outputs": [
    {
     "data": {
      "text/html": [
       "<div>\n",
       "<style scoped>\n",
       "    .dataframe tbody tr th:only-of-type {\n",
       "        vertical-align: middle;\n",
       "    }\n",
       "\n",
       "    .dataframe tbody tr th {\n",
       "        vertical-align: top;\n",
       "    }\n",
       "\n",
       "    .dataframe thead th {\n",
       "        text-align: right;\n",
       "    }\n",
       "</style>\n",
       "<table border=\"1\" class=\"dataframe\">\n",
       "  <thead>\n",
       "    <tr style=\"text-align: right;\">\n",
       "      <th></th>\n",
       "      <th>id</th>\n",
       "      <th>inning</th>\n",
       "      <th>over</th>\n",
       "      <th>ball</th>\n",
       "      <th>batsman</th>\n",
       "      <th>non_striker</th>\n",
       "      <th>bowler</th>\n",
       "      <th>batsman_runs</th>\n",
       "      <th>extra_runs</th>\n",
       "      <th>total_runs</th>\n",
       "      <th>non_boundary</th>\n",
       "      <th>is_wicket</th>\n",
       "      <th>dismissal_kind</th>\n",
       "      <th>player_dismissed</th>\n",
       "      <th>fielder</th>\n",
       "      <th>extras_type</th>\n",
       "      <th>batting_team</th>\n",
       "      <th>bowling_team</th>\n",
       "    </tr>\n",
       "  </thead>\n",
       "  <tbody>\n",
       "    <tr>\n",
       "      <th>0</th>\n",
       "      <td>335982</td>\n",
       "      <td>1</td>\n",
       "      <td>6</td>\n",
       "      <td>5</td>\n",
       "      <td>RT Ponting</td>\n",
       "      <td>BB McCullum</td>\n",
       "      <td>AA Noffke</td>\n",
       "      <td>1</td>\n",
       "      <td>0</td>\n",
       "      <td>1</td>\n",
       "      <td>0</td>\n",
       "      <td>0</td>\n",
       "      <td>NaN</td>\n",
       "      <td>NaN</td>\n",
       "      <td>NaN</td>\n",
       "      <td>NaN</td>\n",
       "      <td>Kolkata Knight Riders</td>\n",
       "      <td>Royal Challengers Bangalore</td>\n",
       "    </tr>\n",
       "    <tr>\n",
       "      <th>1</th>\n",
       "      <td>335982</td>\n",
       "      <td>1</td>\n",
       "      <td>6</td>\n",
       "      <td>6</td>\n",
       "      <td>BB McCullum</td>\n",
       "      <td>RT Ponting</td>\n",
       "      <td>AA Noffke</td>\n",
       "      <td>1</td>\n",
       "      <td>0</td>\n",
       "      <td>1</td>\n",
       "      <td>0</td>\n",
       "      <td>0</td>\n",
       "      <td>NaN</td>\n",
       "      <td>NaN</td>\n",
       "      <td>NaN</td>\n",
       "      <td>NaN</td>\n",
       "      <td>Kolkata Knight Riders</td>\n",
       "      <td>Royal Challengers Bangalore</td>\n",
       "    </tr>\n",
       "    <tr>\n",
       "      <th>2</th>\n",
       "      <td>335982</td>\n",
       "      <td>1</td>\n",
       "      <td>7</td>\n",
       "      <td>1</td>\n",
       "      <td>BB McCullum</td>\n",
       "      <td>RT Ponting</td>\n",
       "      <td>Z Khan</td>\n",
       "      <td>0</td>\n",
       "      <td>0</td>\n",
       "      <td>0</td>\n",
       "      <td>0</td>\n",
       "      <td>0</td>\n",
       "      <td>NaN</td>\n",
       "      <td>NaN</td>\n",
       "      <td>NaN</td>\n",
       "      <td>NaN</td>\n",
       "      <td>Kolkata Knight Riders</td>\n",
       "      <td>Royal Challengers Bangalore</td>\n",
       "    </tr>\n",
       "    <tr>\n",
       "      <th>3</th>\n",
       "      <td>335982</td>\n",
       "      <td>1</td>\n",
       "      <td>7</td>\n",
       "      <td>2</td>\n",
       "      <td>BB McCullum</td>\n",
       "      <td>RT Ponting</td>\n",
       "      <td>Z Khan</td>\n",
       "      <td>1</td>\n",
       "      <td>0</td>\n",
       "      <td>1</td>\n",
       "      <td>0</td>\n",
       "      <td>0</td>\n",
       "      <td>NaN</td>\n",
       "      <td>NaN</td>\n",
       "      <td>NaN</td>\n",
       "      <td>NaN</td>\n",
       "      <td>Kolkata Knight Riders</td>\n",
       "      <td>Royal Challengers Bangalore</td>\n",
       "    </tr>\n",
       "    <tr>\n",
       "      <th>4</th>\n",
       "      <td>335982</td>\n",
       "      <td>1</td>\n",
       "      <td>7</td>\n",
       "      <td>3</td>\n",
       "      <td>RT Ponting</td>\n",
       "      <td>BB McCullum</td>\n",
       "      <td>Z Khan</td>\n",
       "      <td>1</td>\n",
       "      <td>0</td>\n",
       "      <td>1</td>\n",
       "      <td>0</td>\n",
       "      <td>0</td>\n",
       "      <td>NaN</td>\n",
       "      <td>NaN</td>\n",
       "      <td>NaN</td>\n",
       "      <td>NaN</td>\n",
       "      <td>Kolkata Knight Riders</td>\n",
       "      <td>Royal Challengers Bangalore</td>\n",
       "    </tr>\n",
       "  </tbody>\n",
       "</table>\n",
       "</div>"
      ],
      "text/plain": [
       "       id  inning  over  ball      batsman  non_striker     bowler  \\\n",
       "0  335982       1     6     5   RT Ponting  BB McCullum  AA Noffke   \n",
       "1  335982       1     6     6  BB McCullum   RT Ponting  AA Noffke   \n",
       "2  335982       1     7     1  BB McCullum   RT Ponting     Z Khan   \n",
       "3  335982       1     7     2  BB McCullum   RT Ponting     Z Khan   \n",
       "4  335982       1     7     3   RT Ponting  BB McCullum     Z Khan   \n",
       "\n",
       "   batsman_runs  extra_runs  total_runs  non_boundary  is_wicket  \\\n",
       "0             1           0           1             0          0   \n",
       "1             1           0           1             0          0   \n",
       "2             0           0           0             0          0   \n",
       "3             1           0           1             0          0   \n",
       "4             1           0           1             0          0   \n",
       "\n",
       "  dismissal_kind player_dismissed fielder extras_type           batting_team  \\\n",
       "0            NaN              NaN     NaN         NaN  Kolkata Knight Riders   \n",
       "1            NaN              NaN     NaN         NaN  Kolkata Knight Riders   \n",
       "2            NaN              NaN     NaN         NaN  Kolkata Knight Riders   \n",
       "3            NaN              NaN     NaN         NaN  Kolkata Knight Riders   \n",
       "4            NaN              NaN     NaN         NaN  Kolkata Knight Riders   \n",
       "\n",
       "                  bowling_team  \n",
       "0  Royal Challengers Bangalore  \n",
       "1  Royal Challengers Bangalore  \n",
       "2  Royal Challengers Bangalore  \n",
       "3  Royal Challengers Bangalore  \n",
       "4  Royal Challengers Bangalore  "
      ]
     },
     "execution_count": 4,
     "metadata": {},
     "output_type": "execute_result"
    }
   ],
   "source": [
    "df_ball.head()"
   ]
  },
  {
   "cell_type": "code",
   "execution_count": 5,
   "id": "187df008",
   "metadata": {},
   "outputs": [
    {
     "data": {
      "text/html": [
       "<div>\n",
       "<style scoped>\n",
       "    .dataframe tbody tr th:only-of-type {\n",
       "        vertical-align: middle;\n",
       "    }\n",
       "\n",
       "    .dataframe tbody tr th {\n",
       "        vertical-align: top;\n",
       "    }\n",
       "\n",
       "    .dataframe thead th {\n",
       "        text-align: right;\n",
       "    }\n",
       "</style>\n",
       "<table border=\"1\" class=\"dataframe\">\n",
       "  <thead>\n",
       "    <tr style=\"text-align: right;\">\n",
       "      <th></th>\n",
       "      <th>id</th>\n",
       "      <th>city</th>\n",
       "      <th>date</th>\n",
       "      <th>player_of_match</th>\n",
       "      <th>venue</th>\n",
       "      <th>neutral_venue</th>\n",
       "      <th>team1</th>\n",
       "      <th>team2</th>\n",
       "      <th>toss_winner</th>\n",
       "      <th>toss_decision</th>\n",
       "      <th>winner</th>\n",
       "      <th>result</th>\n",
       "      <th>result_margin</th>\n",
       "      <th>eliminator</th>\n",
       "      <th>method</th>\n",
       "      <th>umpire1</th>\n",
       "      <th>umpire2</th>\n",
       "    </tr>\n",
       "  </thead>\n",
       "  <tbody>\n",
       "    <tr>\n",
       "      <th>0</th>\n",
       "      <td>335982</td>\n",
       "      <td>Bangalore</td>\n",
       "      <td>2008-04-18</td>\n",
       "      <td>BB McCullum</td>\n",
       "      <td>M Chinnaswamy Stadium</td>\n",
       "      <td>0</td>\n",
       "      <td>Royal Challengers Bangalore</td>\n",
       "      <td>Kolkata Knight Riders</td>\n",
       "      <td>Royal Challengers Bangalore</td>\n",
       "      <td>field</td>\n",
       "      <td>Kolkata Knight Riders</td>\n",
       "      <td>runs</td>\n",
       "      <td>140.0</td>\n",
       "      <td>N</td>\n",
       "      <td>NaN</td>\n",
       "      <td>Asad Rauf</td>\n",
       "      <td>RE Koertzen</td>\n",
       "    </tr>\n",
       "    <tr>\n",
       "      <th>1</th>\n",
       "      <td>335983</td>\n",
       "      <td>Chandigarh</td>\n",
       "      <td>2008-04-19</td>\n",
       "      <td>MEK Hussey</td>\n",
       "      <td>Punjab Cricket Association Stadium, Mohali</td>\n",
       "      <td>0</td>\n",
       "      <td>Kings XI Punjab</td>\n",
       "      <td>Chennai Super Kings</td>\n",
       "      <td>Chennai Super Kings</td>\n",
       "      <td>bat</td>\n",
       "      <td>Chennai Super Kings</td>\n",
       "      <td>runs</td>\n",
       "      <td>33.0</td>\n",
       "      <td>N</td>\n",
       "      <td>NaN</td>\n",
       "      <td>MR Benson</td>\n",
       "      <td>SL Shastri</td>\n",
       "    </tr>\n",
       "    <tr>\n",
       "      <th>2</th>\n",
       "      <td>335984</td>\n",
       "      <td>Delhi</td>\n",
       "      <td>2008-04-19</td>\n",
       "      <td>MF Maharoof</td>\n",
       "      <td>Feroz Shah Kotla</td>\n",
       "      <td>0</td>\n",
       "      <td>Delhi Daredevils</td>\n",
       "      <td>Rajasthan Royals</td>\n",
       "      <td>Rajasthan Royals</td>\n",
       "      <td>bat</td>\n",
       "      <td>Delhi Daredevils</td>\n",
       "      <td>wickets</td>\n",
       "      <td>9.0</td>\n",
       "      <td>N</td>\n",
       "      <td>NaN</td>\n",
       "      <td>Aleem Dar</td>\n",
       "      <td>GA Pratapkumar</td>\n",
       "    </tr>\n",
       "    <tr>\n",
       "      <th>3</th>\n",
       "      <td>335985</td>\n",
       "      <td>Mumbai</td>\n",
       "      <td>2008-04-20</td>\n",
       "      <td>MV Boucher</td>\n",
       "      <td>Wankhede Stadium</td>\n",
       "      <td>0</td>\n",
       "      <td>Mumbai Indians</td>\n",
       "      <td>Royal Challengers Bangalore</td>\n",
       "      <td>Mumbai Indians</td>\n",
       "      <td>bat</td>\n",
       "      <td>Royal Challengers Bangalore</td>\n",
       "      <td>wickets</td>\n",
       "      <td>5.0</td>\n",
       "      <td>N</td>\n",
       "      <td>NaN</td>\n",
       "      <td>SJ Davis</td>\n",
       "      <td>DJ Harper</td>\n",
       "    </tr>\n",
       "    <tr>\n",
       "      <th>4</th>\n",
       "      <td>335986</td>\n",
       "      <td>Kolkata</td>\n",
       "      <td>2008-04-20</td>\n",
       "      <td>DJ Hussey</td>\n",
       "      <td>Eden Gardens</td>\n",
       "      <td>0</td>\n",
       "      <td>Kolkata Knight Riders</td>\n",
       "      <td>Deccan Chargers</td>\n",
       "      <td>Deccan Chargers</td>\n",
       "      <td>bat</td>\n",
       "      <td>Kolkata Knight Riders</td>\n",
       "      <td>wickets</td>\n",
       "      <td>5.0</td>\n",
       "      <td>N</td>\n",
       "      <td>NaN</td>\n",
       "      <td>BF Bowden</td>\n",
       "      <td>K Hariharan</td>\n",
       "    </tr>\n",
       "  </tbody>\n",
       "</table>\n",
       "</div>"
      ],
      "text/plain": [
       "       id        city        date player_of_match  \\\n",
       "0  335982   Bangalore  2008-04-18     BB McCullum   \n",
       "1  335983  Chandigarh  2008-04-19      MEK Hussey   \n",
       "2  335984       Delhi  2008-04-19     MF Maharoof   \n",
       "3  335985      Mumbai  2008-04-20      MV Boucher   \n",
       "4  335986     Kolkata  2008-04-20       DJ Hussey   \n",
       "\n",
       "                                        venue  neutral_venue  \\\n",
       "0                       M Chinnaswamy Stadium              0   \n",
       "1  Punjab Cricket Association Stadium, Mohali              0   \n",
       "2                            Feroz Shah Kotla              0   \n",
       "3                            Wankhede Stadium              0   \n",
       "4                                Eden Gardens              0   \n",
       "\n",
       "                         team1                        team2  \\\n",
       "0  Royal Challengers Bangalore        Kolkata Knight Riders   \n",
       "1              Kings XI Punjab          Chennai Super Kings   \n",
       "2             Delhi Daredevils             Rajasthan Royals   \n",
       "3               Mumbai Indians  Royal Challengers Bangalore   \n",
       "4        Kolkata Knight Riders              Deccan Chargers   \n",
       "\n",
       "                   toss_winner toss_decision                       winner  \\\n",
       "0  Royal Challengers Bangalore         field        Kolkata Knight Riders   \n",
       "1          Chennai Super Kings           bat          Chennai Super Kings   \n",
       "2             Rajasthan Royals           bat             Delhi Daredevils   \n",
       "3               Mumbai Indians           bat  Royal Challengers Bangalore   \n",
       "4              Deccan Chargers           bat        Kolkata Knight Riders   \n",
       "\n",
       "    result  result_margin eliminator method    umpire1         umpire2  \n",
       "0     runs          140.0          N    NaN  Asad Rauf     RE Koertzen  \n",
       "1     runs           33.0          N    NaN  MR Benson      SL Shastri  \n",
       "2  wickets            9.0          N    NaN  Aleem Dar  GA Pratapkumar  \n",
       "3  wickets            5.0          N    NaN   SJ Davis       DJ Harper  \n",
       "4  wickets            5.0          N    NaN  BF Bowden     K Hariharan  "
      ]
     },
     "execution_count": 5,
     "metadata": {},
     "output_type": "execute_result"
    }
   ],
   "source": [
    "df_matches.head()"
   ]
  },
  {
   "cell_type": "code",
   "execution_count": 6,
   "id": "55375597",
   "metadata": {},
   "outputs": [
    {
     "name": "stdout",
     "output_type": "stream",
     "text": [
      "\n",
      "No. of Rows and Columns :\n",
      "\n",
      "IPL Ball-by-Ball 2008-2020 : (193468, 18)\n",
      "IPL Matches 2008-2020.csv : (816, 17)\n"
     ]
    }
   ],
   "source": [
    "print(\"\\nNo. of Rows and Columns :\\n\")\n",
    "print(\"IPL Ball-by-Ball 2008-2020 :\",df_ball.shape)\n",
    "print(\"IPL Matches 2008-2020.csv :\",df_matches.shape)"
   ]
  },
  {
   "cell_type": "code",
   "execution_count": 7,
   "id": "1bcd88ae",
   "metadata": {},
   "outputs": [
    {
     "name": "stdout",
     "output_type": "stream",
     "text": [
      "<class 'pandas.core.frame.DataFrame'>\n",
      "RangeIndex: 193468 entries, 0 to 193467\n",
      "Data columns (total 18 columns):\n",
      " #   Column            Non-Null Count   Dtype \n",
      "---  ------            --------------   ----- \n",
      " 0   id                193468 non-null  int64 \n",
      " 1   inning            193468 non-null  int64 \n",
      " 2   over              193468 non-null  int64 \n",
      " 3   ball              193468 non-null  int64 \n",
      " 4   batsman           193468 non-null  object\n",
      " 5   non_striker       193468 non-null  object\n",
      " 6   bowler            193468 non-null  object\n",
      " 7   batsman_runs      193468 non-null  int64 \n",
      " 8   extra_runs        193468 non-null  int64 \n",
      " 9   total_runs        193468 non-null  int64 \n",
      " 10  non_boundary      193468 non-null  int64 \n",
      " 11  is_wicket         193468 non-null  int64 \n",
      " 12  dismissal_kind    9495 non-null    object\n",
      " 13  player_dismissed  9495 non-null    object\n",
      " 14  fielder           6784 non-null    object\n",
      " 15  extras_type       10233 non-null   object\n",
      " 16  batting_team      193468 non-null  object\n",
      " 17  bowling_team      193277 non-null  object\n",
      "dtypes: int64(9), object(9)\n",
      "memory usage: 26.6+ MB\n",
      "None\n",
      "\n",
      "\n",
      "<class 'pandas.core.frame.DataFrame'>\n",
      "RangeIndex: 816 entries, 0 to 815\n",
      "Data columns (total 17 columns):\n",
      " #   Column           Non-Null Count  Dtype  \n",
      "---  ------           --------------  -----  \n",
      " 0   id               816 non-null    int64  \n",
      " 1   city             803 non-null    object \n",
      " 2   date             816 non-null    object \n",
      " 3   player_of_match  812 non-null    object \n",
      " 4   venue            816 non-null    object \n",
      " 5   neutral_venue    816 non-null    int64  \n",
      " 6   team1            816 non-null    object \n",
      " 7   team2            816 non-null    object \n",
      " 8   toss_winner      816 non-null    object \n",
      " 9   toss_decision    816 non-null    object \n",
      " 10  winner           812 non-null    object \n",
      " 11  result           812 non-null    object \n",
      " 12  result_margin    799 non-null    float64\n",
      " 13  eliminator       812 non-null    object \n",
      " 14  method           19 non-null     object \n",
      " 15  umpire1          816 non-null    object \n",
      " 16  umpire2          816 non-null    object \n",
      "dtypes: float64(1), int64(2), object(14)\n",
      "memory usage: 108.5+ KB\n",
      "None\n"
     ]
    }
   ],
   "source": [
    "print(df_ball.info())\n",
    "print(\"\\n\")\n",
    "print(df_matches.info())"
   ]
  },
  {
   "cell_type": "code",
   "execution_count": 8,
   "id": "6caeef9b",
   "metadata": {},
   "outputs": [],
   "source": [
    "# Check for null values"
   ]
  },
  {
   "cell_type": "code",
   "execution_count": 9,
   "id": "5800a03b",
   "metadata": {},
   "outputs": [
    {
     "data": {
      "text/plain": [
       "fielder             186684\n",
       "player_dismissed    183973\n",
       "dismissal_kind      183973\n",
       "extras_type         183235\n",
       "bowling_team           191\n",
       "inning                   0\n",
       "batting_team             0\n",
       "is_wicket                0\n",
       "non_boundary             0\n",
       "id                       0\n",
       "extra_runs               0\n",
       "batsman_runs             0\n",
       "bowler                   0\n",
       "non_striker              0\n",
       "batsman                  0\n",
       "ball                     0\n",
       "over                     0\n",
       "total_runs               0\n",
       "dtype: int64"
      ]
     },
     "execution_count": 9,
     "metadata": {},
     "output_type": "execute_result"
    }
   ],
   "source": [
    "df_ball.isnull().sum().sort_values(ascending=False)"
   ]
  },
  {
   "cell_type": "code",
   "execution_count": 10,
   "id": "5956fb97",
   "metadata": {},
   "outputs": [
    {
     "data": {
      "text/plain": [
       "fielder             96.493477\n",
       "player_dismissed    95.092212\n",
       "dismissal_kind      95.092212\n",
       "extras_type         94.710753\n",
       "bowling_team         0.098724\n",
       "inning               0.000000\n",
       "batting_team         0.000000\n",
       "is_wicket            0.000000\n",
       "non_boundary         0.000000\n",
       "id                   0.000000\n",
       "extra_runs           0.000000\n",
       "batsman_runs         0.000000\n",
       "bowler               0.000000\n",
       "non_striker          0.000000\n",
       "batsman              0.000000\n",
       "ball                 0.000000\n",
       "over                 0.000000\n",
       "total_runs           0.000000\n",
       "dtype: float64"
      ]
     },
     "execution_count": 10,
     "metadata": {},
     "output_type": "execute_result"
    }
   ],
   "source": [
    "(df_ball.isnull().mean()*100).sort_values(ascending=False)"
   ]
  },
  {
   "cell_type": "markdown",
   "id": "bce81e6e",
   "metadata": {},
   "source": [
    "### Columns with High Null Values:\n",
    "\n",
    "    - fielder (96.5%)\n",
    "\n",
    "    - player_dismissed (95.1%)\n",
    "\n",
    "    - dismissal_kind (95.1%)\n",
    "\n",
    "    - extras_type (94.7%)\n",
    "\n",
    "These all relate to events that don't happen on every ball, like dismissals and extras. So it's totally expected that most rows will be null for these fields.\n",
    "\n",
    "**No need to drop**\n",
    "\n",
    "⚠️ Bowling_team has 0.1% nulls value because not every team plays in Semi-Final and Final."
   ]
  },
  {
   "cell_type": "code",
   "execution_count": 11,
   "id": "8729623a",
   "metadata": {},
   "outputs": [
    {
     "data": {
      "text/plain": [
       "method             797\n",
       "result_margin       17\n",
       "city                13\n",
       "winner               4\n",
       "player_of_match      4\n",
       "eliminator           4\n",
       "result               4\n",
       "id                   0\n",
       "umpire1              0\n",
       "toss_winner          0\n",
       "toss_decision        0\n",
       "team2                0\n",
       "team1                0\n",
       "neutral_venue        0\n",
       "venue                0\n",
       "date                 0\n",
       "umpire2              0\n",
       "dtype: int64"
      ]
     },
     "execution_count": 11,
     "metadata": {},
     "output_type": "execute_result"
    }
   ],
   "source": [
    "df_matches.isnull().sum().sort_values(ascending=False)"
   ]
  },
  {
   "cell_type": "code",
   "execution_count": 12,
   "id": "784dc676",
   "metadata": {},
   "outputs": [
    {
     "data": {
      "text/plain": [
       "method             97.671569\n",
       "result_margin       2.083333\n",
       "city                1.593137\n",
       "winner              0.490196\n",
       "player_of_match     0.490196\n",
       "eliminator          0.490196\n",
       "result              0.490196\n",
       "id                  0.000000\n",
       "umpire1             0.000000\n",
       "toss_winner         0.000000\n",
       "toss_decision       0.000000\n",
       "team2               0.000000\n",
       "team1               0.000000\n",
       "neutral_venue       0.000000\n",
       "venue               0.000000\n",
       "date                0.000000\n",
       "umpire2             0.000000\n",
       "dtype: float64"
      ]
     },
     "execution_count": 12,
     "metadata": {},
     "output_type": "execute_result"
    }
   ],
   "source": [
    "(df_matches.isnull().mean()*100).sort_values(ascending=False)"
   ]
  },
  {
   "cell_type": "code",
   "execution_count": 13,
   "id": "624995d6",
   "metadata": {},
   "outputs": [],
   "source": [
    "df_matches['method'] = df_matches['method'].fillna('UnKnown')\n",
    "\n",
    "df_matches['result_margin'] = df_matches['result_margin'].fillna(0)\n",
    "\n",
    "df_matches['city'] = df_matches['city'].fillna('Not Played')\n",
    "\n",
    "df_matches['eliminator'] = df_matches['eliminator'].fillna('UnKnown')"
   ]
  },
  {
   "cell_type": "markdown",
   "id": "669b4ac3",
   "metadata": {},
   "source": [
    "**winner , player_of_match, result**  (all ~0.5–1.5%)\n",
    "\n",
    "These might be missing for:\n",
    "\n",
    "- No result games\n",
    "\n",
    "- Abandoned matches\n",
    "\n",
    "\n"
   ]
  },
  {
   "cell_type": "code",
   "execution_count": 14,
   "id": "2f621c6d",
   "metadata": {},
   "outputs": [],
   "source": [
    "# Change Datatype of Date column\n",
    "\n",
    "df_matches[\"date\"] = pd.to_datetime(df_matches[\"date\"], errors = 'coerce')\n",
    "\n",
    "df_matches[\"Year\"] = pd.to_datetime(df_matches[\"date\"]).dt.year"
   ]
  },
  {
   "cell_type": "markdown",
   "id": "40d55abd",
   "metadata": {},
   "source": [
    "--------------"
   ]
  },
  {
   "cell_type": "markdown",
   "id": "ad179cd6",
   "metadata": {},
   "source": [
    "## Data Merging"
   ]
  },
  {
   "cell_type": "code",
   "execution_count": 15,
   "id": "f03ba674",
   "metadata": {},
   "outputs": [
    {
     "data": {
      "text/plain": [
       "(193468, 35)"
      ]
     },
     "execution_count": 15,
     "metadata": {},
     "output_type": "execute_result"
    }
   ],
   "source": [
    "ipl_df = pd.merge(df_ball, df_matches, left_on='id', right_on='id', how='left')\n",
    "\n",
    "ipl_df.shape"
   ]
  },
  {
   "cell_type": "code",
   "execution_count": 16,
   "id": "567acc65",
   "metadata": {},
   "outputs": [
    {
     "data": {
      "text/html": [
       "<div>\n",
       "<style scoped>\n",
       "    .dataframe tbody tr th:only-of-type {\n",
       "        vertical-align: middle;\n",
       "    }\n",
       "\n",
       "    .dataframe tbody tr th {\n",
       "        vertical-align: top;\n",
       "    }\n",
       "\n",
       "    .dataframe thead th {\n",
       "        text-align: right;\n",
       "    }\n",
       "</style>\n",
       "<table border=\"1\" class=\"dataframe\">\n",
       "  <thead>\n",
       "    <tr style=\"text-align: right;\">\n",
       "      <th></th>\n",
       "      <th>id</th>\n",
       "      <th>inning</th>\n",
       "      <th>over</th>\n",
       "      <th>ball</th>\n",
       "      <th>batsman</th>\n",
       "      <th>non_striker</th>\n",
       "      <th>bowler</th>\n",
       "      <th>batsman_runs</th>\n",
       "      <th>extra_runs</th>\n",
       "      <th>total_runs</th>\n",
       "      <th>...</th>\n",
       "      <th>toss_winner</th>\n",
       "      <th>toss_decision</th>\n",
       "      <th>winner</th>\n",
       "      <th>result</th>\n",
       "      <th>result_margin</th>\n",
       "      <th>eliminator</th>\n",
       "      <th>method</th>\n",
       "      <th>umpire1</th>\n",
       "      <th>umpire2</th>\n",
       "      <th>Year</th>\n",
       "    </tr>\n",
       "  </thead>\n",
       "  <tbody>\n",
       "    <tr>\n",
       "      <th>0</th>\n",
       "      <td>335982</td>\n",
       "      <td>1</td>\n",
       "      <td>6</td>\n",
       "      <td>5</td>\n",
       "      <td>RT Ponting</td>\n",
       "      <td>BB McCullum</td>\n",
       "      <td>AA Noffke</td>\n",
       "      <td>1</td>\n",
       "      <td>0</td>\n",
       "      <td>1</td>\n",
       "      <td>...</td>\n",
       "      <td>Royal Challengers Bangalore</td>\n",
       "      <td>field</td>\n",
       "      <td>Kolkata Knight Riders</td>\n",
       "      <td>runs</td>\n",
       "      <td>140.0</td>\n",
       "      <td>N</td>\n",
       "      <td>UnKnown</td>\n",
       "      <td>Asad Rauf</td>\n",
       "      <td>RE Koertzen</td>\n",
       "      <td>2008</td>\n",
       "    </tr>\n",
       "    <tr>\n",
       "      <th>1</th>\n",
       "      <td>335982</td>\n",
       "      <td>1</td>\n",
       "      <td>6</td>\n",
       "      <td>6</td>\n",
       "      <td>BB McCullum</td>\n",
       "      <td>RT Ponting</td>\n",
       "      <td>AA Noffke</td>\n",
       "      <td>1</td>\n",
       "      <td>0</td>\n",
       "      <td>1</td>\n",
       "      <td>...</td>\n",
       "      <td>Royal Challengers Bangalore</td>\n",
       "      <td>field</td>\n",
       "      <td>Kolkata Knight Riders</td>\n",
       "      <td>runs</td>\n",
       "      <td>140.0</td>\n",
       "      <td>N</td>\n",
       "      <td>UnKnown</td>\n",
       "      <td>Asad Rauf</td>\n",
       "      <td>RE Koertzen</td>\n",
       "      <td>2008</td>\n",
       "    </tr>\n",
       "    <tr>\n",
       "      <th>2</th>\n",
       "      <td>335982</td>\n",
       "      <td>1</td>\n",
       "      <td>7</td>\n",
       "      <td>1</td>\n",
       "      <td>BB McCullum</td>\n",
       "      <td>RT Ponting</td>\n",
       "      <td>Z Khan</td>\n",
       "      <td>0</td>\n",
       "      <td>0</td>\n",
       "      <td>0</td>\n",
       "      <td>...</td>\n",
       "      <td>Royal Challengers Bangalore</td>\n",
       "      <td>field</td>\n",
       "      <td>Kolkata Knight Riders</td>\n",
       "      <td>runs</td>\n",
       "      <td>140.0</td>\n",
       "      <td>N</td>\n",
       "      <td>UnKnown</td>\n",
       "      <td>Asad Rauf</td>\n",
       "      <td>RE Koertzen</td>\n",
       "      <td>2008</td>\n",
       "    </tr>\n",
       "    <tr>\n",
       "      <th>3</th>\n",
       "      <td>335982</td>\n",
       "      <td>1</td>\n",
       "      <td>7</td>\n",
       "      <td>2</td>\n",
       "      <td>BB McCullum</td>\n",
       "      <td>RT Ponting</td>\n",
       "      <td>Z Khan</td>\n",
       "      <td>1</td>\n",
       "      <td>0</td>\n",
       "      <td>1</td>\n",
       "      <td>...</td>\n",
       "      <td>Royal Challengers Bangalore</td>\n",
       "      <td>field</td>\n",
       "      <td>Kolkata Knight Riders</td>\n",
       "      <td>runs</td>\n",
       "      <td>140.0</td>\n",
       "      <td>N</td>\n",
       "      <td>UnKnown</td>\n",
       "      <td>Asad Rauf</td>\n",
       "      <td>RE Koertzen</td>\n",
       "      <td>2008</td>\n",
       "    </tr>\n",
       "    <tr>\n",
       "      <th>4</th>\n",
       "      <td>335982</td>\n",
       "      <td>1</td>\n",
       "      <td>7</td>\n",
       "      <td>3</td>\n",
       "      <td>RT Ponting</td>\n",
       "      <td>BB McCullum</td>\n",
       "      <td>Z Khan</td>\n",
       "      <td>1</td>\n",
       "      <td>0</td>\n",
       "      <td>1</td>\n",
       "      <td>...</td>\n",
       "      <td>Royal Challengers Bangalore</td>\n",
       "      <td>field</td>\n",
       "      <td>Kolkata Knight Riders</td>\n",
       "      <td>runs</td>\n",
       "      <td>140.0</td>\n",
       "      <td>N</td>\n",
       "      <td>UnKnown</td>\n",
       "      <td>Asad Rauf</td>\n",
       "      <td>RE Koertzen</td>\n",
       "      <td>2008</td>\n",
       "    </tr>\n",
       "  </tbody>\n",
       "</table>\n",
       "<p>5 rows × 35 columns</p>\n",
       "</div>"
      ],
      "text/plain": [
       "       id  inning  over  ball      batsman  non_striker     bowler  \\\n",
       "0  335982       1     6     5   RT Ponting  BB McCullum  AA Noffke   \n",
       "1  335982       1     6     6  BB McCullum   RT Ponting  AA Noffke   \n",
       "2  335982       1     7     1  BB McCullum   RT Ponting     Z Khan   \n",
       "3  335982       1     7     2  BB McCullum   RT Ponting     Z Khan   \n",
       "4  335982       1     7     3   RT Ponting  BB McCullum     Z Khan   \n",
       "\n",
       "   batsman_runs  extra_runs  total_runs  ...                  toss_winner  \\\n",
       "0             1           0           1  ...  Royal Challengers Bangalore   \n",
       "1             1           0           1  ...  Royal Challengers Bangalore   \n",
       "2             0           0           0  ...  Royal Challengers Bangalore   \n",
       "3             1           0           1  ...  Royal Challengers Bangalore   \n",
       "4             1           0           1  ...  Royal Challengers Bangalore   \n",
       "\n",
       "   toss_decision                 winner result result_margin eliminator  \\\n",
       "0          field  Kolkata Knight Riders   runs         140.0          N   \n",
       "1          field  Kolkata Knight Riders   runs         140.0          N   \n",
       "2          field  Kolkata Knight Riders   runs         140.0          N   \n",
       "3          field  Kolkata Knight Riders   runs         140.0          N   \n",
       "4          field  Kolkata Knight Riders   runs         140.0          N   \n",
       "\n",
       "    method    umpire1      umpire2  Year  \n",
       "0  UnKnown  Asad Rauf  RE Koertzen  2008  \n",
       "1  UnKnown  Asad Rauf  RE Koertzen  2008  \n",
       "2  UnKnown  Asad Rauf  RE Koertzen  2008  \n",
       "3  UnKnown  Asad Rauf  RE Koertzen  2008  \n",
       "4  UnKnown  Asad Rauf  RE Koertzen  2008  \n",
       "\n",
       "[5 rows x 35 columns]"
      ]
     },
     "execution_count": 16,
     "metadata": {},
     "output_type": "execute_result"
    }
   ],
   "source": [
    "ipl_df.head()"
   ]
  },
  {
   "cell_type": "code",
   "execution_count": 17,
   "id": "f370f62a",
   "metadata": {},
   "outputs": [
    {
     "name": "stdout",
     "output_type": "stream",
     "text": [
      "<class 'pandas.core.frame.DataFrame'>\n",
      "Int64Index: 193468 entries, 0 to 193467\n",
      "Data columns (total 35 columns):\n",
      " #   Column            Non-Null Count   Dtype         \n",
      "---  ------            --------------   -----         \n",
      " 0   id                193468 non-null  int64         \n",
      " 1   inning            193468 non-null  int64         \n",
      " 2   over              193468 non-null  int64         \n",
      " 3   ball              193468 non-null  int64         \n",
      " 4   batsman           193468 non-null  object        \n",
      " 5   non_striker       193468 non-null  object        \n",
      " 6   bowler            193468 non-null  object        \n",
      " 7   batsman_runs      193468 non-null  int64         \n",
      " 8   extra_runs        193468 non-null  int64         \n",
      " 9   total_runs        193468 non-null  int64         \n",
      " 10  non_boundary      193468 non-null  int64         \n",
      " 11  is_wicket         193468 non-null  int64         \n",
      " 12  dismissal_kind    9495 non-null    object        \n",
      " 13  player_dismissed  9495 non-null    object        \n",
      " 14  fielder           6784 non-null    object        \n",
      " 15  extras_type       10233 non-null   object        \n",
      " 16  batting_team      193468 non-null  object        \n",
      " 17  bowling_team      193277 non-null  object        \n",
      " 18  city              193468 non-null  object        \n",
      " 19  date              193468 non-null  datetime64[ns]\n",
      " 20  player_of_match   193096 non-null  object        \n",
      " 21  venue             193468 non-null  object        \n",
      " 22  neutral_venue     193468 non-null  int64         \n",
      " 23  team1             193468 non-null  object        \n",
      " 24  team2             193468 non-null  object        \n",
      " 25  toss_winner       193468 non-null  object        \n",
      " 26  toss_decision     193468 non-null  object        \n",
      " 27  winner            193096 non-null  object        \n",
      " 28  result            193096 non-null  object        \n",
      " 29  result_margin     193468 non-null  float64       \n",
      " 30  eliminator        193468 non-null  object        \n",
      " 31  method            193468 non-null  object        \n",
      " 32  umpire1           193468 non-null  object        \n",
      " 33  umpire2           193468 non-null  object        \n",
      " 34  Year              193468 non-null  int64         \n",
      "dtypes: datetime64[ns](1), float64(1), int64(11), object(22)\n",
      "memory usage: 53.1+ MB\n"
     ]
    }
   ],
   "source": [
    "ipl_df.info()"
   ]
  },
  {
   "cell_type": "code",
   "execution_count": 29,
   "id": "ea7b22c5",
   "metadata": {},
   "outputs": [
    {
     "data": {
      "text/plain": [
       "Index(['id', 'inning', 'over', 'ball', 'batsman', 'non_striker', 'bowler',\n",
       "       'batsman_runs', 'extra_runs', 'total_runs', 'non_boundary', 'is_wicket',\n",
       "       'dismissal_kind', 'player_dismissed', 'fielder', 'extras_type',\n",
       "       'batting_team', 'bowling_team', 'city', 'date', 'player_of_match',\n",
       "       'venue', 'neutral_venue', 'team1', 'team2', 'toss_winner',\n",
       "       'toss_decision', 'winner', 'result', 'result_margin', 'eliminator',\n",
       "       'method', 'umpire1', 'umpire2', 'Year'],\n",
       "      dtype='object')"
      ]
     },
     "execution_count": 29,
     "metadata": {},
     "output_type": "execute_result"
    }
   ],
   "source": [
    "ipl_df.columns"
   ]
  },
  {
   "cell_type": "markdown",
   "id": "2f5a1c80",
   "metadata": {},
   "source": [
    "1.Perform basic analysis on IPL \n",
    "2.Analyse toss decisions across seasons of IPl \n",
    "3.Analyse whether winning toss applies winning game or not \n",
    "4.Analyse which teams have won the tournament the most \n",
    "5.Comparitive analysis of teams"
   ]
  },
  {
   "cell_type": "code",
   "execution_count": 24,
   "id": "700997de",
   "metadata": {},
   "outputs": [
    {
     "data": {
      "text/plain": [
       "Year\n",
       "2008     8\n",
       "2009     7\n",
       "2010     8\n",
       "2011    10\n",
       "2012     9\n",
       "2013     9\n",
       "2014     8\n",
       "2015     8\n",
       "2016     8\n",
       "2017     8\n",
       "2018     8\n",
       "2019     8\n",
       "2020     8\n",
       "Name: team1, dtype: int64"
      ]
     },
     "execution_count": 24,
     "metadata": {},
     "output_type": "execute_result"
    }
   ],
   "source": [
    "# Total number of Team participate in each season\n",
    "\n",
    "ipl_df.groupby([\"Year\"])[\"team1\"].nunique()"
   ]
  },
  {
   "cell_type": "code",
   "execution_count": 36,
   "id": "adae7003",
   "metadata": {},
   "outputs": [
    {
     "data": {
      "image/png": "[encoded data removed]",
      "text/plain": [
       "<Figure size 1200x600 with 1 Axes>"
      ]
     },
     "metadata": {},
     "output_type": "display_data"
    }
   ],
   "source": [
    "season_participation = ipl_df.groupby([\"Year\"])[\"team1\"].nunique()\n",
    "\n",
    "plt.figure(figsize=(12, 6))\n",
    "season_participation.plot(kind='bar', color='skyblue')\n",
    "plt.title('Team Participated in Each Season', size=20)\n",
    "plt.xlabel('Season', size=20)\n",
    "plt.ylabel('Number of Teams', size=20)\n",
    "plt.xticks(rotation=0)\n",
    "plt.tight_layout()\n",
    "plt.show()\n"
   ]
  },
  {
   "cell_type": "code",
   "execution_count": 23,
   "id": "7b8f2117",
   "metadata": {},
   "outputs": [
    {
     "data": {
      "text/plain": [
       "Year\n",
       "2008    13489\n",
       "2009    13595\n",
       "2010    14489\n",
       "2011    17013\n",
       "2012    17767\n",
       "2013    18152\n",
       "2014    14288\n",
       "2015    13641\n",
       "2016    14096\n",
       "2017    13849\n",
       "2018    14286\n",
       "2019    14293\n",
       "2020    14510\n",
       "Name: team1, dtype: int64"
      ]
     },
     "execution_count": 23,
     "metadata": {},
     "output_type": "execute_result"
    }
   ],
   "source": [
    "# Total number of Team Played in each season\n",
    "\n",
    "ipl_df.groupby([\"Year\"])[\"team1\"].count()"
   ]
  },
  {
   "cell_type": "code",
   "execution_count": 40,
   "id": "933cec2e",
   "metadata": {},
   "outputs": [
    {
     "data": {
      "image/png": "[encoded data removed]",
      "text/plain": [
       "<Figure size 1200x600 with 1 Axes>"
      ]
     },
     "metadata": {},
     "output_type": "display_data"
    }
   ],
   "source": [
    "total_matches_play = ipl_df.groupby([\"Year\"])[\"team1\"].count()\n",
    "\n",
    "plt.figure(figsize=(12, 6))\n",
    "total_matches_play.plot(kind='bar', color='skyblue')\n",
    "plt.title('Total Matches in Each Season', size=20)\n",
    "plt.xlabel('Season', size=20)\n",
    "plt.ylabel('Total Match', size=20)\n",
    "plt.xticks(rotation=0)\n",
    "plt.tight_layout()\n",
    "plt.show()\n"
   ]
  },
  {
   "cell_type": "code",
   "execution_count": 46,
   "id": "a003bea2",
   "metadata": {},
   "outputs": [
    {
     "name": "stdout",
     "output_type": "stream",
     "text": [
      "No. of Cities : 33\n",
      "No. of Venue's : 36\n"
     ]
    }
   ],
   "source": [
    "# Total City & Venue\n",
    "\n",
    "print(\"No. of Cities :\", ipl_df[\"city\"].nunique())  \n",
    "print(\"No. of Venue's :\",ipl_df[\"venue\"].nunique())"
   ]
  },
  {
   "cell_type": "code",
   "execution_count": 26,
   "id": "23baab19",
   "metadata": {},
   "outputs": [
    {
     "data": {
      "text/plain": [
       "city        venue                                     \n",
       "Kolkata     Eden Gardens                                  17988\n",
       "Mumbai      Wankhede Stadium                              17584\n",
       "Delhi       Feroz Shah Kotla                              17294\n",
       "Hyderabad   Rajiv Gandhi International Stadium, Uppal     15200\n",
       "Bangalore   M Chinnaswamy Stadium                         14895\n",
       "Chennai     MA Chidambaram Stadium, Chepauk               13881\n",
       "Jaipur      Sawai Mansingh Stadium                        11150\n",
       "Chandigarh  Punjab Cricket Association Stadium, Mohali     8266\n",
       "Abu Dhabi   Sheikh Zayed Stadium                           6906\n",
       "Dubai       Dubai International Cricket Stadium            6338\n",
       "Name: team1, dtype: int64"
      ]
     },
     "execution_count": 26,
     "metadata": {},
     "output_type": "execute_result"
    }
   ],
   "source": [
    "# Total Matches played in each venue \n",
    "\n",
    "ipl_df.groupby(['city','venue'])[\"team1\"].count().sort_values(ascending=False).head(10)"
   ]
  },
  {
   "cell_type": "code",
   "execution_count": 27,
   "id": "58a283bb",
   "metadata": {},
   "outputs": [
    {
     "data": {
      "text/plain": [
       "player_of_match\n",
       "AB de Villiers    5663\n",
       "CH Gayle          5186\n",
       "RG Sharma         4412\n",
       "MS Dhoni          4130\n",
       "DA Warner         4076\n",
       "SR Watson         3807\n",
       "YK Pathan         3724\n",
       "SK Raina          3400\n",
       "G Gambhir         3107\n",
       "AM Rahane         2916\n",
       "Name: player_of_match, dtype: int64"
      ]
     },
     "execution_count": 27,
     "metadata": {},
     "output_type": "execute_result"
    }
   ],
   "source": [
    "# Top Player of the match\n",
    "\n",
    "ipl_df.groupby(['player_of_match'])[\"player_of_match\"].count().sort_values(ascending=False).head(10)"
   ]
  },
  {
   "cell_type": "code",
   "execution_count": 43,
   "id": "6e541252",
   "metadata": {},
   "outputs": [
    {
     "data": {
      "image/png": "[encoded data removed]",
      "text/plain": [
       "<Figure size 1200x600 with 1 Axes>"
      ]
     },
     "metadata": {},
     "output_type": "display_data"
    }
   ],
   "source": [
    "Top_Player = ipl_df.groupby(['player_of_match'])[\"player_of_match\"].count().sort_values(ascending=False).head(10)\n",
    "\n",
    "plt.figure(figsize=(12, 6))\n",
    "Top_Player.plot(kind='bar', color='green')\n",
    "plt.title('Number of Matches Won by Each Team')\n",
    "plt.xlabel('Team')\n",
    "plt.ylabel('Number of Matches Won')\n",
    "plt.xticks(rotation=50)\n",
    "plt.tight_layout()\n",
    "plt.show()"
   ]
  },
  {
   "cell_type": "code",
   "execution_count": 59,
   "id": "bd6e7a28",
   "metadata": {},
   "outputs": [
    {
     "data": {
      "text/plain": [
       "Year\n",
       "2008    13489\n",
       "2009    13595\n",
       "2010    14489\n",
       "2011    16950\n",
       "2012    17767\n",
       "2013    18152\n",
       "2014    14288\n",
       "2015    13383\n",
       "2016    14096\n",
       "2017    13849\n",
       "2018    14286\n",
       "2019    14242\n",
       "2020    14510\n",
       "Name: winner, dtype: int64"
      ]
     },
     "execution_count": 59,
     "metadata": {},
     "output_type": "execute_result"
    }
   ],
   "source": [
    "# Top Team Win by each session\n",
    "\n",
    "ipl_df.groupby(\"Year\")['winner'].count()\n"
   ]
  },
  {
   "cell_type": "code",
   "execution_count": 60,
   "id": "e8a480ce",
   "metadata": {},
   "outputs": [
    {
     "data": {
      "image/png": "[encoded data removed]",
      "text/plain": [
       "<Figure size 1200x600 with 1 Axes>"
      ]
     },
     "metadata": {},
     "output_type": "display_data"
    }
   ],
   "source": [
    "win = ipl_df.groupby(\"Year\")['winner'].count()\n",
    "\n",
    "plt.figure(figsize=(12, 6))\n",
    "win.plot(kind='bar', color='green')\n",
    "plt.title('Number of Matches Won by Each Team')\n",
    "plt.xlabel('Team')\n",
    "plt.ylabel('Number of Matches Won')\n",
    "plt.xticks(rotation=50)\n",
    "plt.tight_layout()\n",
    "plt.show()"
   ]
  },
  {
   "cell_type": "code",
   "execution_count": null,
   "id": "262d409d",
   "metadata": {},
   "outputs": [],
   "source": [
    "# Analyse toss decisions across seasons of IPl "
   ]
  },
  {
   "cell_type": "code",
   "execution_count": 31,
   "id": "7272041a",
   "metadata": {},
   "outputs": [
    {
     "data": {
      "text/html": [
       "<div>\n",
       "<style scoped>\n",
       "    .dataframe tbody tr th:only-of-type {\n",
       "        vertical-align: middle;\n",
       "    }\n",
       "\n",
       "    .dataframe tbody tr th {\n",
       "        vertical-align: top;\n",
       "    }\n",
       "\n",
       "    .dataframe thead th {\n",
       "        text-align: right;\n",
       "    }\n",
       "</style>\n",
       "<table border=\"1\" class=\"dataframe\">\n",
       "  <thead>\n",
       "    <tr style=\"text-align: right;\">\n",
       "      <th>toss_decision</th>\n",
       "      <th>bat</th>\n",
       "      <th>field</th>\n",
       "    </tr>\n",
       "    <tr>\n",
       "      <th>Year</th>\n",
       "      <th></th>\n",
       "      <th></th>\n",
       "    </tr>\n",
       "  </thead>\n",
       "  <tbody>\n",
       "    <tr>\n",
       "      <th>2008</th>\n",
       "      <td>5973</td>\n",
       "      <td>7516</td>\n",
       "    </tr>\n",
       "    <tr>\n",
       "      <th>2009</th>\n",
       "      <td>8420</td>\n",
       "      <td>5175</td>\n",
       "    </tr>\n",
       "    <tr>\n",
       "      <th>2010</th>\n",
       "      <td>9384</td>\n",
       "      <td>5105</td>\n",
       "    </tr>\n",
       "    <tr>\n",
       "      <th>2011</th>\n",
       "      <td>5682</td>\n",
       "      <td>11331</td>\n",
       "    </tr>\n",
       "    <tr>\n",
       "      <th>2012</th>\n",
       "      <td>8988</td>\n",
       "      <td>8779</td>\n",
       "    </tr>\n",
       "    <tr>\n",
       "      <th>2013</th>\n",
       "      <td>10796</td>\n",
       "      <td>7356</td>\n",
       "    </tr>\n",
       "    <tr>\n",
       "      <th>2014</th>\n",
       "      <td>4562</td>\n",
       "      <td>9726</td>\n",
       "    </tr>\n",
       "    <tr>\n",
       "      <th>2015</th>\n",
       "      <td>5932</td>\n",
       "      <td>7709</td>\n",
       "    </tr>\n",
       "    <tr>\n",
       "      <th>2016</th>\n",
       "      <td>2531</td>\n",
       "      <td>11565</td>\n",
       "    </tr>\n",
       "    <tr>\n",
       "      <th>2017</th>\n",
       "      <td>2677</td>\n",
       "      <td>11172</td>\n",
       "    </tr>\n",
       "    <tr>\n",
       "      <th>2018</th>\n",
       "      <td>2455</td>\n",
       "      <td>11831</td>\n",
       "    </tr>\n",
       "    <tr>\n",
       "      <th>2019</th>\n",
       "      <td>2406</td>\n",
       "      <td>11887</td>\n",
       "    </tr>\n",
       "    <tr>\n",
       "      <th>2020</th>\n",
       "      <td>6535</td>\n",
       "      <td>7975</td>\n",
       "    </tr>\n",
       "  </tbody>\n",
       "</table>\n",
       "</div>"
      ],
      "text/plain": [
       "toss_decision    bat  field\n",
       "Year                       \n",
       "2008            5973   7516\n",
       "2009            8420   5175\n",
       "2010            9384   5105\n",
       "2011            5682  11331\n",
       "2012            8988   8779\n",
       "2013           10796   7356\n",
       "2014            4562   9726\n",
       "2015            5932   7709\n",
       "2016            2531  11565\n",
       "2017            2677  11172\n",
       "2018            2455  11831\n",
       "2019            2406  11887\n",
       "2020            6535   7975"
      ]
     },
     "execution_count": 31,
     "metadata": {},
     "output_type": "execute_result"
    }
   ],
   "source": [
    "toss_decision_by_season = ipl_df.groupby(['Year', 'toss_decision']).size().unstack()\n",
    "\n",
    "toss_decision_by_season"
   ]
  },
  {
   "cell_type": "code",
   "execution_count": 37,
   "id": "8e528419",
   "metadata": {},
   "outputs": [
    {
     "data": {
      "image/png": "[encoded data removed]",
      "text/plain": [
       "<Figure size 1200x600 with 1 Axes>"
      ]
     },
     "metadata": {},
     "output_type": "display_data"
    }
   ],
   "source": [
    "toss_decision_by_season.plot(kind='bar', figsize=(12,6))\n",
    "plt.title('Toss Decisions Across IPL Seasons')\n",
    "plt.ylabel('Number of Matches')\n",
    "plt.xlabel('Season')\n",
    "plt.xticks(rotation=45)\n",
    "plt.legend(title='Toss Decision')\n",
    "plt.xticks(rotation=0)\n",
    "plt.tight_layout()\n",
    "plt.show()\n"
   ]
  },
  {
   "cell_type": "code",
   "execution_count": 75,
   "id": "df48182d",
   "metadata": {},
   "outputs": [],
   "source": [
    "# Analyse whether winning toss applies winning game or not "
   ]
  },
  {
   "cell_type": "code",
   "execution_count": 81,
   "id": "fd081db0",
   "metadata": {},
   "outputs": [
    {
     "name": "stdout",
     "output_type": "stream",
     "text": [
      "Year\n",
      "2008    48.283787\n",
      "2009    57.153365\n",
      "2010    52.329353\n",
      "2011    52.195380\n",
      "2012    44.047954\n",
      "2013    47.873513\n",
      "2014    48.460246\n",
      "2015    48.632798\n",
      "2016    56.498297\n",
      "2017    56.502275\n",
      "2018    53.107938\n",
      "2019    60.505142\n",
      "2020    41.233632\n",
      "Name: toss_win_and_match_win, dtype: float64\n"
     ]
    }
   ],
   "source": [
    "ipl_df['toss_win_and_match_win'] = ipl_df['toss_winner'] == ipl_df['winner']\n",
    "\n",
    "seasonal_stats = ipl_df.groupby('Year')['toss_win_and_match_win'].mean() * 100\n",
    "\n",
    "print(seasonal_stats)\n"
   ]
  },
  {
   "cell_type": "code",
   "execution_count": 84,
   "id": "d84d1b54",
   "metadata": {},
   "outputs": [
    {
     "data": {
      "image/png": "[encoded data removed]",
      "text/plain": [
       "<Figure size 1200x600 with 1 Axes>"
      ]
     },
     "metadata": {},
     "output_type": "display_data"
    }
   ],
   "source": [
    "seasonal_stats.plot(kind='bar', figsize=(12,6), color='skyblue')\n",
    "plt.title('Matches Where Toss Winner Also Won (Season-wise)')\n",
    "plt.ylabel('Win Percentage')\n",
    "plt.xlabel('Season')\n",
    "plt.legend()\n",
    "plt.xticks(rotation=0)\n",
    "plt.tight_layout()\n",
    "plt.show()\n"
   ]
  },
  {
   "cell_type": "code",
   "execution_count": null,
   "id": "cce02647",
   "metadata": {},
   "outputs": [],
   "source": [
    "# Analyse which teams have won the tournament the most "
   ]
  },
  {
   "cell_type": "code",
   "execution_count": 87,
   "id": "75092bcc",
   "metadata": {},
   "outputs": [],
   "source": [
    "df_sorted = ipl_df.sort_values(['Year', 'date', 'id'])\n",
    "\n",
    "finals = df_sorted.groupby('Year').tail(1)"
   ]
  },
  {
   "cell_type": "code",
   "execution_count": 88,
   "id": "1607d6b5",
   "metadata": {},
   "outputs": [
    {
     "name": "stdout",
     "output_type": "stream",
     "text": [
      "                    Team  Titles\n",
      "0         Mumbai Indians       5\n",
      "1    Chennai Super Kings       3\n",
      "2  Kolkata Knight Riders       2\n",
      "3       Rajasthan Royals       1\n",
      "4        Deccan Chargers       1\n",
      "5    Sunrisers Hyderabad       1\n"
     ]
    }
   ],
   "source": [
    "title_counts = finals['winner'].value_counts().reset_index()\n",
    "title_counts.columns = ['Team', 'Titles']\n",
    "\n",
    "print(title_counts)\n"
   ]
  },
  {
   "cell_type": "code",
   "execution_count": 93,
   "id": "2f73a236",
   "metadata": {},
   "outputs": [
    {
     "data": {
      "image/png": "[encoded data removed]",
      "text/plain": [
       "<Figure size 800x500 with 1 Axes>"
      ]
     },
     "metadata": {},
     "output_type": "display_data"
    }
   ],
   "source": [
    "plt.figure(figsize=(8,5))\n",
    "sns.barplot(data=title_counts, x='Titles', y='Team', palette='viridis')\n",
    "plt.title('IPL Titles Won by Each Team')\n",
    "plt.xlabel('Number of Titles')\n",
    "plt.ylabel('Team')\n",
    "plt.tight_layout()\n",
    "plt.show()\n"
   ]
  },
  {
   "cell_type": "code",
   "execution_count": 94,
   "id": "b78d6421",
   "metadata": {},
   "outputs": [],
   "source": [
    "# Comparitive analysis of teams"
   ]
  },
  {
   "cell_type": "code",
   "execution_count": 69,
   "id": "1bafe3c6",
   "metadata": {},
   "outputs": [
    {
     "name": "stdout",
     "output_type": "stream",
     "text": [
      "    Year                 winner\n",
      "0   2008       Rajasthan Royals\n",
      "1   2009        Deccan Chargers\n",
      "2   2010    Chennai Super Kings\n",
      "3   2011    Chennai Super Kings\n",
      "4   2012  Kolkata Knight Riders\n",
      "5   2013         Mumbai Indians\n",
      "6   2014  Kolkata Knight Riders\n",
      "7   2015         Mumbai Indians\n",
      "8   2016    Sunrisers Hyderabad\n",
      "9   2017         Mumbai Indians\n",
      "10  2018    Chennai Super Kings\n",
      "11  2019         Mumbai Indians\n",
      "12  2020         Mumbai Indians\n"
     ]
    }
   ],
   "source": [
    "df_sorted = ipl_df.sort_values(['Year', 'date', 'id'])\n",
    "\n",
    "final_matches = df_sorted.groupby('Year').tail(1)\n",
    "\n",
    "ipl_champions = final_matches[['Year', 'winner']].reset_index(drop=True)\n",
    "\n",
    "print(ipl_champions)\n"
   ]
  },
  {
   "cell_type": "code",
   "execution_count": 72,
   "id": "ec80f201",
   "metadata": {},
   "outputs": [
    {
     "data": {
      "text/html": [
       "<div>\n",
       "<style scoped>\n",
       "    .dataframe tbody tr th:only-of-type {\n",
       "        vertical-align: middle;\n",
       "    }\n",
       "\n",
       "    .dataframe tbody tr th {\n",
       "        vertical-align: top;\n",
       "    }\n",
       "\n",
       "    .dataframe thead th {\n",
       "        text-align: right;\n",
       "    }\n",
       "</style>\n",
       "<table border=\"1\" class=\"dataframe\">\n",
       "  <thead>\n",
       "    <tr style=\"text-align: right;\">\n",
       "      <th></th>\n",
       "      <th>Year</th>\n",
       "      <th>winner</th>\n",
       "      <th>player_of_match</th>\n",
       "    </tr>\n",
       "  </thead>\n",
       "  <tbody>\n",
       "    <tr>\n",
       "      <th>13488</th>\n",
       "      <td>2008</td>\n",
       "      <td>Rajasthan Royals</td>\n",
       "      <td>YK Pathan</td>\n",
       "    </tr>\n",
       "    <tr>\n",
       "      <th>27083</th>\n",
       "      <td>2009</td>\n",
       "      <td>Deccan Chargers</td>\n",
       "      <td>A Kumble</td>\n",
       "    </tr>\n",
       "    <tr>\n",
       "      <th>41572</th>\n",
       "      <td>2010</td>\n",
       "      <td>Chennai Super Kings</td>\n",
       "      <td>SK Raina</td>\n",
       "    </tr>\n",
       "    <tr>\n",
       "      <th>58585</th>\n",
       "      <td>2011</td>\n",
       "      <td>Chennai Super Kings</td>\n",
       "      <td>M Vijay</td>\n",
       "    </tr>\n",
       "    <tr>\n",
       "      <th>76352</th>\n",
       "      <td>2012</td>\n",
       "      <td>Kolkata Knight Riders</td>\n",
       "      <td>MS Bisla</td>\n",
       "    </tr>\n",
       "    <tr>\n",
       "      <th>94504</th>\n",
       "      <td>2013</td>\n",
       "      <td>Mumbai Indians</td>\n",
       "      <td>KA Pollard</td>\n",
       "    </tr>\n",
       "    <tr>\n",
       "      <th>108792</th>\n",
       "      <td>2014</td>\n",
       "      <td>Kolkata Knight Riders</td>\n",
       "      <td>MK Pandey</td>\n",
       "    </tr>\n",
       "    <tr>\n",
       "      <th>122433</th>\n",
       "      <td>2015</td>\n",
       "      <td>Mumbai Indians</td>\n",
       "      <td>RG Sharma</td>\n",
       "    </tr>\n",
       "    <tr>\n",
       "      <th>136529</th>\n",
       "      <td>2016</td>\n",
       "      <td>Sunrisers Hyderabad</td>\n",
       "      <td>BCJ Cutting</td>\n",
       "    </tr>\n",
       "    <tr>\n",
       "      <th>150378</th>\n",
       "      <td>2017</td>\n",
       "      <td>Mumbai Indians</td>\n",
       "      <td>KH Pandya</td>\n",
       "    </tr>\n",
       "    <tr>\n",
       "      <th>164664</th>\n",
       "      <td>2018</td>\n",
       "      <td>Chennai Super Kings</td>\n",
       "      <td>SR Watson</td>\n",
       "    </tr>\n",
       "    <tr>\n",
       "      <th>178957</th>\n",
       "      <td>2019</td>\n",
       "      <td>Mumbai Indians</td>\n",
       "      <td>JJ Bumrah</td>\n",
       "    </tr>\n",
       "    <tr>\n",
       "      <th>193467</th>\n",
       "      <td>2020</td>\n",
       "      <td>Mumbai Indians</td>\n",
       "      <td>TA Boult</td>\n",
       "    </tr>\n",
       "  </tbody>\n",
       "</table>\n",
       "</div>"
      ],
      "text/plain": [
       "        Year                 winner player_of_match\n",
       "13488   2008       Rajasthan Royals       YK Pathan\n",
       "27083   2009        Deccan Chargers        A Kumble\n",
       "41572   2010    Chennai Super Kings        SK Raina\n",
       "58585   2011    Chennai Super Kings         M Vijay\n",
       "76352   2012  Kolkata Knight Riders        MS Bisla\n",
       "94504   2013         Mumbai Indians      KA Pollard\n",
       "108792  2014  Kolkata Knight Riders       MK Pandey\n",
       "122433  2015         Mumbai Indians       RG Sharma\n",
       "136529  2016    Sunrisers Hyderabad     BCJ Cutting\n",
       "150378  2017         Mumbai Indians       KH Pandya\n",
       "164664  2018    Chennai Super Kings       SR Watson\n",
       "178957  2019         Mumbai Indians       JJ Bumrah\n",
       "193467  2020         Mumbai Indians        TA Boult"
      ]
     },
     "execution_count": 72,
     "metadata": {},
     "output_type": "execute_result"
    }
   ],
   "source": [
    "ipl_champions = final_matches[['Year', 'winner', 'player_of_match']]\n",
    "ipl_champions"
   ]
  },
  {
   "cell_type": "code",
   "execution_count": null,
   "id": "321d20c8",
   "metadata": {},
   "outputs": [],
   "source": []
  }
 ],
 "metadata": {
  "kernelspec": {
   "display_name": "Python 3 (ipykernel)",
   "language": "python",
   "name": "python3"
  },
  "language_info": {
   "codemirror_mode": {
    "name": "ipython",
    "version": 3
   },
   "file_extension": ".py",
   "mimetype": "text/x-python",
   "name": "python",
   "nbconvert_exporter": "python",
   "pygments_lexer": "ipython3",
   "version": "3.11.4"
  }
 },
 "nbformat": 4,
 "nbformat_minor": 5
}
