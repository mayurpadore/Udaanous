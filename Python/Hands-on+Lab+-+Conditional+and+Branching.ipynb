{
 "cells": [
  {
   "cell_type": "markdown",
   "id": "6a35fa33-b9c2-49f1-b668-0019998d599d",
   "metadata": {},
   "source": [
    "#### Problem 1: \n",
    "\n",
    "You are working on a wildlife monitoring program that needs to classify animals based on the speed they can run. Create a Python code snippet that determines the category of an animal based on its speed (in kilometers per hour). Use the following classifications:\n",
    "\n",
    "1. If the speed is greater than or equal to 60 km/h, the animal is categorized as a \"Fast Runner.\"\n",
    "2. If the speed is between 30 km/h and 59 km/h (inclusive), the animal is categorized as a \"Moderate Runner.\"\n",
    "3. If the speed is less than 30 km/h, the animal is categorized as a \"Slow Mover.\"\n",
    "\n",
    "\n",
    "Define a variable animal_speed and set it to 45 to test the program."
   ]
  },
  {
   "cell_type": "code",
   "execution_count": 2,
   "id": "1a0867bb-67ca-42c7-8a86-b9dc83df5f51",
   "metadata": {},
   "outputs": [
    {
     "name": "stdout",
     "output_type": "stream",
     "text": [
      "45\n",
      "Moderate Runner\n"
     ]
    }
   ],
   "source": [
    "Animal_Speed = int(input(\"\"))\n",
    "\n",
    "if Animal_Speed >= 60:\n",
    "    print(\"Fast Runner\")\n",
    "    \n",
    "elif Animal_Speed>=30 and Animal_Speed <=59:\n",
    "    print(\"Moderate Runner\")\n",
    "    \n",
    "else:\n",
    "    print(\"Slow Mover\")"
   ]
  },
  {
   "cell_type": "markdown",
   "id": "beb278cf-ebd1-4836-b45f-2e39142ec316",
   "metadata": {},
   "source": [
    "#### Problem 2: \n",
    "\n",
    "You are developing a ticketing system for an amusement park that offers discounted tickets for children. \n",
    "\n",
    "**A child is eligible for a discounted ticket only if their age is between 3 and 12 years inclusive and their height is less than 140 cm.**\n",
    "\n",
    "Write a Python program that checks whether a child qualifies for a discounted ticket. Define two variables: child_age = 10 child_height = 135 to test the program."
   ]
  },
  {
   "cell_type": "code",
   "execution_count": 3,
   "id": "afc11cc7-f367-4ee9-aa16-44919d1209a1",
   "metadata": {},
   "outputs": [
    {
     "name": "stdout",
     "output_type": "stream",
     "text": [
      "Eligible for the discounted ticket\n"
     ]
    }
   ],
   "source": [
    "child_age = 10\n",
    "child_height = 135\n",
    "\n",
    "if child_age>=3 and child_age<=12 and child_height < 140:\n",
    "    print(\"Eligible for the discounted ticket\")\n",
    "    \n",
    "else:\n",
    "    print(\"Not Eligible\")"
   ]
  },
  {
   "cell_type": "markdown",
   "id": "18b51ca0-1a5e-414f-865c-61dfd3cc7e00",
   "metadata": {},
   "source": [
    "#### Problem 3:\n",
    "\n",
    "You are designing a system to determine whether a car can participate in an eco-friendly car race. The car must meet the following conditions:\n",
    "\n",
    "1. The car's fuel type must be \"Electric\" or \"Hybrid.\"\n",
    "2. If the car is \"Hybrid,\" its fuel efficiency must be greater than or equal to 25 kilometers per liter (km/l).\n",
    "\n",
    "Write a Python program that determines if the car qualifies for the race. Define two variables: fuel_type = \"Hybrid\" and fuel_efficiency = 28 to test the program."
   ]
  },
  {
   "cell_type": "code",
   "execution_count": 4,
   "id": "1e9ed8bd-2704-4917-a883-6cd5a462aaad",
   "metadata": {},
   "outputs": [
    {
     "name": "stdout",
     "output_type": "stream",
     "text": [
      "Eligible for the ecofriendy car race\n"
     ]
    }
   ],
   "source": [
    "fuel_type = \"Hybrid\" \n",
    "fuel_efficiency = 28 \n",
    "\n",
    "if fuel_type == 'Electric':\n",
    "    print(\"Eligible for the ecofriendy car race\")\n",
    "\n",
    "elif fuel_type == 'Hybrid' and fuel_efficiency >= 25:\n",
    "    print(\"Eligible for the ecofriendy car race\")\n",
    "    \n",
    "else:\n",
    "    print(\"Not Eligible\")\n",
    "    "
   ]
  },
  {
   "cell_type": "code",
   "execution_count": null,
   "id": "0986037a",
   "metadata": {},
   "outputs": [],
   "source": []
  }
 ],
 "metadata": {
  "kernelspec": {
   "display_name": "Python 3 (ipykernel)",
   "language": "python",
   "name": "python3"
  },
  "language_info": {
   "codemirror_mode": {
    "name": "ipython",
    "version": 3
   },
   "file_extension": ".py",
   "mimetype": "text/x-python",
   "name": "python",
   "nbconvert_exporter": "python",
   "pygments_lexer": "ipython3",
   "version": "3.11.4"
  }
 },
 "nbformat": 4,
 "nbformat_minor": 5
}
