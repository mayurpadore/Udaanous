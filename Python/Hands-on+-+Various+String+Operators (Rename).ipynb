{
 "cells": [
  {
   "cell_type": "markdown",
   "id": "6a35fa33-b9c2-49f1-b668-0019998d599d",
   "metadata": {},
   "source": [
    "#### Problem 1: Given the string \"PYTHON\", extract and print the fourth characters using their positions."
   ]
  },
  {
   "cell_type": "code",
   "execution_count": 2,
   "id": "1a0867bb-67ca-42c7-8a86-b9dc83df5f51",
   "metadata": {},
   "outputs": [
    {
     "data": {
      "text/plain": [
       "'H'"
      ]
     },
     "execution_count": 2,
     "metadata": {},
     "output_type": "execute_result"
    }
   ],
   "source": [
    "string = \"PYTHON\"\n",
    "\n",
    "string[3]"
   ]
  },
  {
   "cell_type": "markdown",
   "id": "beb278cf-ebd1-4836-b45f-2e39142ec316",
   "metadata": {},
   "source": [
    "#### Problem 2: Given the string \"PYTHON\", extract and print the second-to-last characters using negative indexing."
   ]
  },
  {
   "cell_type": "code",
   "execution_count": 3,
   "id": "afc11cc7-f367-4ee9-aa16-44919d1209a1",
   "metadata": {},
   "outputs": [
    {
     "data": {
      "text/plain": [
       "'O'"
      ]
     },
     "execution_count": 3,
     "metadata": {},
     "output_type": "execute_result"
    }
   ],
   "source": [
    "string = \"PYTHON\"\n",
    "\n",
    "string[-2]"
   ]
  },
  {
   "cell_type": "markdown",
   "id": "75ab11e9-91ad-49b2-aa96-6b3c2414dfe7",
   "metadata": {},
   "source": [
    "#### Problem 3: Extract the substring \"THON\" from the string \"PYTHON\"."
   ]
  },
  {
   "cell_type": "code",
   "execution_count": 5,
   "id": "842a21fb-b6f4-4084-9471-d39516bd2e7c",
   "metadata": {},
   "outputs": [
    {
     "data": {
      "text/plain": [
       "'THON'"
      ]
     },
     "execution_count": 5,
     "metadata": {},
     "output_type": "execute_result"
    }
   ],
   "source": [
    "string = \"PYTHON\"\n",
    "\n",
    "string[2:]"
   ]
  },
  {
   "cell_type": "markdown",
   "id": "0d060ee0-23e6-4b63-8db4-700e15ecca00",
   "metadata": {},
   "source": [
    "#### Problem 4: Extract every second character from the string \"PYTHON\" starting from the first character."
   ]
  },
  {
   "cell_type": "code",
   "execution_count": 6,
   "id": "3e32ba0c-4592-429d-8f7b-f4a5c7c0d843",
   "metadata": {},
   "outputs": [
    {
     "data": {
      "text/plain": [
       "'PTO'"
      ]
     },
     "execution_count": 6,
     "metadata": {},
     "output_type": "execute_result"
    }
   ],
   "source": [
    "string = \"PYTHON\"\n",
    "\n",
    "string[::2]"
   ]
  },
  {
   "cell_type": "markdown",
   "id": "0c058f79-9f24-426a-ab69-b01dd268e5fd",
   "metadata": {},
   "source": [
    "#### Problem 5: Find the length of the string \"Hello, World!\"."
   ]
  },
  {
   "cell_type": "code",
   "execution_count": 7,
   "id": "b85d6015-b060-44a4-8b8d-deff0eafbaec",
   "metadata": {},
   "outputs": [
    {
     "data": {
      "text/plain": [
       "13"
      ]
     },
     "execution_count": 7,
     "metadata": {},
     "output_type": "execute_result"
    }
   ],
   "source": [
    "string = \"Hello, World!\"\n",
    "\n",
    "len(string)"
   ]
  },
  {
   "cell_type": "markdown",
   "id": "77d61064-34e7-4e93-a0c8-8c2822821806",
   "metadata": {},
   "source": [
    "#### Problem 6: Combine the strings \"Hello\" and \"World\" with a space in between."
   ]
  },
  {
   "cell_type": "code",
   "execution_count": 12,
   "id": "ec884c5d-7a47-40ee-b531-0136e3edba47",
   "metadata": {},
   "outputs": [
    {
     "name": "stdout",
     "output_type": "stream",
     "text": [
      "Hello World\n"
     ]
    }
   ],
   "source": [
    "string1 = \"Hello\"\n",
    " \n",
    "string2 = \"World\"\n",
    "\n",
    "print(string1 +\" \"+string2)"
   ]
  },
  {
   "attachments": {
    "12d2bdef-f206-42ff-a70d-b339b70833e0.png": {
     "image/png": "[encoded data removed]"
    }
   },
   "cell_type": "markdown",
   "id": "6ecfc300-f638-42f5-befc-7e98a5949dfd",
   "metadata": {},
   "source": [
    " #### Problem 7: Print the following text using escape sequences:\n",
    "\n",
    "\n",
    "![Screenshot 2024-12-30 at 11.39.58 PM.png](attachment:12d2bdef-f206-42ff-a70d-b339b70833e0.png)\n"
   ]
  },
  {
   "cell_type": "code",
   "execution_count": 15,
   "id": "12a458fa-a7a1-4e39-b4e6-f3a941f0037d",
   "metadata": {},
   "outputs": [
    {
     "name": "stdout",
     "output_type": "stream",
     "text": [
      "Hello \n",
      " World\n"
     ]
    }
   ],
   "source": [
    "print(\"Hello \\n World\")"
   ]
  },
  {
   "cell_type": "markdown",
   "id": "4fe79525-1d37-43c5-9513-df2d25af622d",
   "metadata": {},
   "source": [
    "#### Problem 8: Convert \"Python Programming\" to uppercase and lowercase."
   ]
  },
  {
   "cell_type": "code",
   "execution_count": 17,
   "id": "888a6a1a-fdfe-45ea-b791-fc46c15be8de",
   "metadata": {},
   "outputs": [
    {
     "name": "stdout",
     "output_type": "stream",
     "text": [
      "Python Programming\n",
      "PYTHON PROGRAMMING\n"
     ]
    }
   ],
   "source": [
    "string = \"Python Programming\"\n",
    "\n",
    "Upp = string.upper()\n",
    "\n",
    "print(string)\n",
    "print(Upp)"
   ]
  },
  {
   "cell_type": "markdown",
   "id": "40fe2385-429b-42e9-ac6c-73fa1f012ccb",
   "metadata": {},
   "source": [
    "#### Problem 9: Replace the word \"Python\" with \"Java\" in the string \"I love Python.\"."
   ]
  },
  {
   "cell_type": "code",
   "execution_count": 19,
   "id": "389f01d1-c9a2-4ca9-b53f-62b68b559418",
   "metadata": {},
   "outputs": [
    {
     "name": "stdout",
     "output_type": "stream",
     "text": [
      "I love Java.\n"
     ]
    }
   ],
   "source": [
    "txt = \"I love Python.\"\n",
    "\n",
    "a = txt.replace(\"Python\", \"Java\")\n",
    "\n",
    "print(a)"
   ]
  },
  {
   "cell_type": "code",
   "execution_count": null,
   "id": "470c85e7",
   "metadata": {},
   "outputs": [],
   "source": []
  }
 ],
 "metadata": {
  "kernelspec": {
   "display_name": "Python 3 (ipykernel)",
   "language": "python",
   "name": "python3"
  },
  "language_info": {
   "codemirror_mode": {
    "name": "ipython",
    "version": 3
   },
   "file_extension": ".py",
   "mimetype": "text/x-python",
   "name": "python",
   "nbconvert_exporter": "python",
   "pygments_lexer": "ipython3",
   "version": "3.11.4"
  }
 },
 "nbformat": 4,
 "nbformat_minor": 5
}
