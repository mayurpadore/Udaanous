{
 "cells": [
  {
   "cell_type": "markdown",
   "id": "6a35fa33-b9c2-49f1-b668-0019998d599d",
   "metadata": {},
   "source": [
    "#### Problem 1: \n",
    "**You are given a list: [10, 15, 20, 25, 15, 30, 20, 40]. Your task is to convert this list into a set to remove duplicate elements.**"
   ]
  },
  {
   "cell_type": "code",
   "execution_count": 1,
   "id": "1a0867bb-67ca-42c7-8a86-b9dc83df5f51",
   "metadata": {},
   "outputs": [
    {
     "data": {
      "text/plain": [
       "{10, 15, 20, 25, 30, 40}"
      ]
     },
     "execution_count": 1,
     "metadata": {},
     "output_type": "execute_result"
    }
   ],
   "source": [
    "List = [10, 15, 20, 25, 15, 30, 20, 40]\n",
    "\n",
    "set(List)"
   ]
  },
  {
   "cell_type": "markdown",
   "id": "beb278cf-ebd1-4836-b45f-2e39142ec316",
   "metadata": {},
   "source": [
    "#### Problem 2: \n",
    "**You have a set {5, 10, 15, 20}. Add the number 25 to the set. Then display the updated set.**"
   ]
  },
  {
   "cell_type": "code",
   "execution_count": 2,
   "id": "afc11cc7-f367-4ee9-aa16-44919d1209a1",
   "metadata": {},
   "outputs": [
    {
     "data": {
      "text/plain": [
       "{5, 10, 15, 20, 25}"
      ]
     },
     "execution_count": 2,
     "metadata": {},
     "output_type": "execute_result"
    }
   ],
   "source": [
    "Set = {5, 10, 15, 20}\n",
    "\n",
    "Set.add(25)\n",
    "\n",
    "Set"
   ]
  },
  {
   "cell_type": "markdown",
   "id": "75ab11e9-91ad-49b2-aa96-6b3c2414dfe7",
   "metadata": {},
   "source": [
    "#### Problem 3: \n",
    "**You are given a set {50, 60, 70, 80, 90}. Remove the number 70 from the set.**"
   ]
  },
  {
   "cell_type": "code",
   "execution_count": 3,
   "id": "842a21fb-b6f4-4084-9471-d39516bd2e7c",
   "metadata": {},
   "outputs": [
    {
     "data": {
      "text/plain": [
       "{50, 60, 80, 90}"
      ]
     },
     "execution_count": 3,
     "metadata": {},
     "output_type": "execute_result"
    }
   ],
   "source": [
    "Set = {50, 60, 70, 80, 90}\n",
    "\n",
    "Set.remove(70)\n",
    "\n",
    "Set"
   ]
  },
  {
   "cell_type": "markdown",
   "id": "0d060ee0-23e6-4b63-8db4-700e15ecca00",
   "metadata": {},
   "source": [
    "#### Problem 4: \n",
    "**You are given two sets:**\n",
    "1. set_a = {1, 2, 3, 4, 5}\n",
    "2. set_b = {4, 5, 6, 7, 8}\n",
    "\n",
    "**Perform a union of these two sets to combine all unique elements. Then display the resulting set.**"
   ]
  },
  {
   "cell_type": "code",
   "execution_count": 4,
   "id": "3e32ba0c-4592-429d-8f7b-f4a5c7c0d843",
   "metadata": {},
   "outputs": [
    {
     "name": "stdout",
     "output_type": "stream",
     "text": [
      "{1, 2, 3, 4, 5, 6, 7, 8}\n",
      "{1, 2, 3, 4, 5, 6, 7, 8}\n"
     ]
    }
   ],
   "source": [
    "set_a = {1, 2, 3, 4, 5}\n",
    "set_b = {4, 5, 6, 7, 8}\n",
    "\n",
    "print(set_a.union(set_b))          # Union         \n",
    "\n",
    "print(set_a | set_b)\n"
   ]
  },
  {
   "cell_type": "markdown",
   "id": "8e5eb7ef-7650-49f5-b2ec-365878a318d9",
   "metadata": {},
   "source": [
    "#### Problem 5:\n",
    "\n",
    "**You are given two sets:**\n",
    "1. set_a = {10, 20, 30, 40, 50}\n",
    "2. set_b = {30, 40, 50, 60, 70}\n",
    "\n",
    "**Find the intersection of these sets to get only the common elements. Then display the resulting set.**"
   ]
  },
  {
   "cell_type": "code",
   "execution_count": 5,
   "id": "279d549d-4dc7-4aa2-973a-e045a4d15b36",
   "metadata": {},
   "outputs": [
    {
     "name": "stdout",
     "output_type": "stream",
     "text": [
      "{40, 50, 30}\n",
      "{40, 50, 30}\n"
     ]
    }
   ],
   "source": [
    "set_a = {10, 20, 30, 40, 50}\n",
    "set_b = {30, 40, 50, 60, 70}\n",
    "\n",
    "\n",
    "print(set_a.intersection(set_b))             # Common Element\n",
    "\n",
    "print(set_a & set_b)"
   ]
  },
  {
   "cell_type": "code",
   "execution_count": null,
   "id": "e3ca3165-173d-4fde-b84e-48df6005ac35",
   "metadata": {},
   "outputs": [],
   "source": []
  }
 ],
 "metadata": {
  "kernelspec": {
   "display_name": "Python 3 (ipykernel)",
   "language": "python",
   "name": "python3"
  },
  "language_info": {
   "codemirror_mode": {
    "name": "ipython",
    "version": 3
   },
   "file_extension": ".py",
   "mimetype": "text/x-python",
   "name": "python",
   "nbconvert_exporter": "python",
   "pygments_lexer": "ipython3",
   "version": "3.11.4"
  }
 },
 "nbformat": 4,
 "nbformat_minor": 5
}
